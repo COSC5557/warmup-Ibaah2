{
 "cells": [
  {
   "cell_type": "markdown",
   "metadata": {
    "id": "taLo6Q7NxKRE"
   },
   "source": [
    "# Wild Card Project"
   ]
  },
  {
   "cell_type": "markdown",
   "metadata": {
    "id": "xQ1Zs9MKxXJ1"
   },
   "source": [
    "## Importing the libraries"
   ]
  },
  {
   "cell_type": "code",
   "execution_count": 83,
   "metadata": {
    "executionInfo": {
     "elapsed": 643,
     "status": "ok",
     "timestamp": 1667115001296,
     "user": {
      "displayName": "Hadelin de Ponteves",
      "userId": "15047218817161520419"
     },
     "user_tz": -240
    },
    "id": "D3x14CwtxcV5"
   },
   "outputs": [],
   "source": [
    "import numpy as np\n",
    "import matplotlib.pyplot as plt\n",
    "import pandas as pd\n",
    "import seaborn as sns"
   ]
  },
  {
   "cell_type": "markdown",
   "metadata": {
    "id": "1L1wq9evxg83"
   },
   "source": [
    "## Importing the dataset"
   ]
  },
  {
   "cell_type": "code",
   "execution_count": 70,
   "metadata": {
    "executionInfo": {
     "elapsed": 5,
     "status": "ok",
     "timestamp": 1667115001297,
     "user": {
      "displayName": "Hadelin de Ponteves",
      "userId": "15047218817161520419"
     },
     "user_tz": -240
    },
    "id": "TMeZ6FKbxkU6"
   },
   "outputs": [],
   "source": [
    "dataset = pd.read_csv(\"C:/Users/ibaah/Documents/Research Work/Summer & Fall 2023 Research/UTAH_ML/Crash_Data1.csv\")\n",
    "\n",
    "#dataset = pd.read_csv('C:/Users/user 1/Documents/Summer & Fall 2023 Research/UTAH_ML/Crash_Data1.csv')"
   ]
  },
  {
   "cell_type": "code",
   "execution_count": 71,
   "metadata": {},
   "outputs": [
    {
     "data": {
      "text/html": [
       "<div>\n",
       "<style scoped>\n",
       "    .dataframe tbody tr th:only-of-type {\n",
       "        vertical-align: middle;\n",
       "    }\n",
       "\n",
       "    .dataframe tbody tr th {\n",
       "        vertical-align: top;\n",
       "    }\n",
       "\n",
       "    .dataframe thead th {\n",
       "        text-align: right;\n",
       "    }\n",
       "</style>\n",
       "<table border=\"1\" class=\"dataframe\">\n",
       "  <thead>\n",
       "    <tr style=\"text-align: right;\">\n",
       "      <th></th>\n",
       "      <th>Crash_ID</th>\n",
       "      <th>Alcohol_Suspected</th>\n",
       "      <th>Drug_Suspected</th>\n",
       "      <th>Location</th>\n",
       "      <th>Age</th>\n",
       "      <th>Injury_Area</th>\n",
       "      <th>Safety_Equipment</th>\n",
       "      <th>Sex</th>\n",
       "      <th>Vehicle_Maneuver</th>\n",
       "      <th>Number_of_Vehicles</th>\n",
       "      <th>...</th>\n",
       "      <th>Wrong_Way_Driving_Involved</th>\n",
       "      <th>Manner_of_Collision</th>\n",
       "      <th>JunctionType</th>\n",
       "      <th>Light_Condition</th>\n",
       "      <th>Weather_Condition</th>\n",
       "      <th>Roadway_Surface_Condition</th>\n",
       "      <th>Crash_Severity</th>\n",
       "      <th>Crash_Severity_Num</th>\n",
       "      <th>Latitude</th>\n",
       "      <th>Longitude</th>\n",
       "    </tr>\n",
       "  </thead>\n",
       "  <tbody>\n",
       "    <tr>\n",
       "      <th>0</th>\n",
       "      <td>10323655</td>\n",
       "      <td>N</td>\n",
       "      <td>N</td>\n",
       "      <td>Urban</td>\n",
       "      <td>Middle</td>\n",
       "      <td>None</td>\n",
       "      <td>Helmet worn</td>\n",
       "      <td>Female</td>\n",
       "      <td>Changing Lanes</td>\n",
       "      <td>Multi</td>\n",
       "      <td>...</td>\n",
       "      <td>N</td>\n",
       "      <td>Front to Rear</td>\n",
       "      <td>No Special Feature/Junction</td>\n",
       "      <td>Dusk</td>\n",
       "      <td>Clear</td>\n",
       "      <td>Dry</td>\n",
       "      <td>Possible Injury</td>\n",
       "      <td>0</td>\n",
       "      <td>40.520319</td>\n",
       "      <td>-111.891253</td>\n",
       "    </tr>\n",
       "    <tr>\n",
       "      <th>1</th>\n",
       "      <td>10327246</td>\n",
       "      <td>N</td>\n",
       "      <td>N</td>\n",
       "      <td>Rural</td>\n",
       "      <td>Middle</td>\n",
       "      <td>None</td>\n",
       "      <td>No helmet worn</td>\n",
       "      <td>Male</td>\n",
       "      <td>Backing</td>\n",
       "      <td>Multi</td>\n",
       "      <td>...</td>\n",
       "      <td>N</td>\n",
       "      <td>Parked Vehicle</td>\n",
       "      <td>No Special Feature/Junction</td>\n",
       "      <td>Daylight</td>\n",
       "      <td>Clear</td>\n",
       "      <td>Dry</td>\n",
       "      <td>No Injury/PDO</td>\n",
       "      <td>0</td>\n",
       "      <td>37.849268</td>\n",
       "      <td>-112.418598</td>\n",
       "    </tr>\n",
       "    <tr>\n",
       "      <th>2</th>\n",
       "      <td>10328007</td>\n",
       "      <td>N</td>\n",
       "      <td>N</td>\n",
       "      <td>Rural</td>\n",
       "      <td>Middle</td>\n",
       "      <td>None</td>\n",
       "      <td>Helmet worn</td>\n",
       "      <td>Female</td>\n",
       "      <td>Straight Ahead</td>\n",
       "      <td>Multi</td>\n",
       "      <td>...</td>\n",
       "      <td>N</td>\n",
       "      <td>Sideswipe Same Direction</td>\n",
       "      <td>No Special Feature/Junction</td>\n",
       "      <td>Daylight</td>\n",
       "      <td>Clear</td>\n",
       "      <td>Dry</td>\n",
       "      <td>Suspected Minor Injury</td>\n",
       "      <td>0</td>\n",
       "      <td>41.784930</td>\n",
       "      <td>-112.148989</td>\n",
       "    </tr>\n",
       "    <tr>\n",
       "      <th>3</th>\n",
       "      <td>10328021</td>\n",
       "      <td>N</td>\n",
       "      <td>N</td>\n",
       "      <td>Urban</td>\n",
       "      <td>Young</td>\n",
       "      <td>None</td>\n",
       "      <td>Helmet worn</td>\n",
       "      <td>Female</td>\n",
       "      <td>Stopped in Traffic Lane</td>\n",
       "      <td>Multi</td>\n",
       "      <td>...</td>\n",
       "      <td>N</td>\n",
       "      <td>Front to Rear</td>\n",
       "      <td>No Special Feature/Junction</td>\n",
       "      <td>Daylight</td>\n",
       "      <td>Cloudy</td>\n",
       "      <td>Dry</td>\n",
       "      <td>Suspected Minor Injury</td>\n",
       "      <td>0</td>\n",
       "      <td>40.137111</td>\n",
       "      <td>-111.597953</td>\n",
       "    </tr>\n",
       "    <tr>\n",
       "      <th>4</th>\n",
       "      <td>10328652</td>\n",
       "      <td>N</td>\n",
       "      <td>N</td>\n",
       "      <td>Rural</td>\n",
       "      <td>Middle</td>\n",
       "      <td>Upper Extremity</td>\n",
       "      <td>Helmet worn</td>\n",
       "      <td>Male</td>\n",
       "      <td>Straight Ahead</td>\n",
       "      <td>Single</td>\n",
       "      <td>...</td>\n",
       "      <td>N</td>\n",
       "      <td>Not Applicable/Single Vehicle</td>\n",
       "      <td>No Special Feature/Junction</td>\n",
       "      <td>Daylight</td>\n",
       "      <td>Clear</td>\n",
       "      <td>Dry</td>\n",
       "      <td>Suspected Minor Injury</td>\n",
       "      <td>0</td>\n",
       "      <td>40.356287</td>\n",
       "      <td>-111.577452</td>\n",
       "    </tr>\n",
       "  </tbody>\n",
       "</table>\n",
       "<p>5 rows × 29 columns</p>\n",
       "</div>"
      ],
      "text/plain": [
       "   Crash_ID Alcohol_Suspected Drug_Suspected Location     Age  \\\n",
       "0  10323655                 N              N    Urban  Middle   \n",
       "1  10327246                 N              N    Rural  Middle   \n",
       "2  10328007                 N              N    Rural  Middle   \n",
       "3  10328021                 N              N    Urban   Young   \n",
       "4  10328652                 N              N    Rural  Middle   \n",
       "\n",
       "      Injury_Area  Safety_Equipment    Sex          Vehicle_Maneuver  \\\n",
       "0             None      Helmet worn  Female           Changing Lanes   \n",
       "1             None   No helmet worn    Male                  Backing   \n",
       "2             None      Helmet worn  Female           Straight Ahead   \n",
       "3             None      Helmet worn  Female  Stopped in Traffic Lane   \n",
       "4  Upper Extremity      Helmet worn    Male           Straight Ahead   \n",
       "\n",
       "  Number_of_Vehicles  ... Wrong_Way_Driving_Involved  \\\n",
       "0              Multi  ...                          N   \n",
       "1              Multi  ...                          N   \n",
       "2              Multi  ...                          N   \n",
       "3              Multi  ...                          N   \n",
       "4             Single  ...                          N   \n",
       "\n",
       "             Manner_of_Collision                JunctionType  Light_Condition  \\\n",
       "0                  Front to Rear  No Special Feature/Junction            Dusk   \n",
       "1                 Parked Vehicle  No Special Feature/Junction        Daylight   \n",
       "2       Sideswipe Same Direction  No Special Feature/Junction        Daylight   \n",
       "3                  Front to Rear  No Special Feature/Junction        Daylight   \n",
       "4  Not Applicable/Single Vehicle  No Special Feature/Junction        Daylight   \n",
       "\n",
       "  Weather_Condition Roadway_Surface_Condition          Crash_Severity  \\\n",
       "0             Clear                       Dry         Possible Injury   \n",
       "1             Clear                       Dry           No Injury/PDO   \n",
       "2             Clear                       Dry  Suspected Minor Injury   \n",
       "3            Cloudy                       Dry  Suspected Minor Injury   \n",
       "4             Clear                       Dry  Suspected Minor Injury   \n",
       "\n",
       "  Crash_Severity_Num   Latitude   Longitude  \n",
       "0                  0  40.520319 -111.891253  \n",
       "1                  0  37.849268 -112.418598  \n",
       "2                  0  41.784930 -112.148989  \n",
       "3                  0  40.137111 -111.597953  \n",
       "4                  0  40.356287 -111.577452  \n",
       "\n",
       "[5 rows x 29 columns]"
      ]
     },
     "execution_count": 71,
     "metadata": {},
     "output_type": "execute_result"
    }
   ],
   "source": [
    "dataset.head()"
   ]
  },
  {
   "cell_type": "markdown",
   "metadata": {},
   "source": [
    "## Splitting the dataset into Dependent and Independent Variables"
   ]
  },
  {
   "cell_type": "code",
   "execution_count": 72,
   "metadata": {},
   "outputs": [],
   "source": [
    "X = dataset.iloc[:, 1:-4]\n",
    "y = dataset.iloc[:, -3]"
   ]
  },
  {
   "cell_type": "code",
   "execution_count": 73,
   "metadata": {
    "scrolled": false
   },
   "outputs": [
    {
     "data": {
      "text/html": [
       "<div>\n",
       "<style scoped>\n",
       "    .dataframe tbody tr th:only-of-type {\n",
       "        vertical-align: middle;\n",
       "    }\n",
       "\n",
       "    .dataframe tbody tr th {\n",
       "        vertical-align: top;\n",
       "    }\n",
       "\n",
       "    .dataframe thead th {\n",
       "        text-align: right;\n",
       "    }\n",
       "</style>\n",
       "<table border=\"1\" class=\"dataframe\">\n",
       "  <thead>\n",
       "    <tr style=\"text-align: right;\">\n",
       "      <th></th>\n",
       "      <th>Alcohol_Suspected</th>\n",
       "      <th>Drug_Suspected</th>\n",
       "      <th>Location</th>\n",
       "      <th>Age</th>\n",
       "      <th>Injury_Area</th>\n",
       "      <th>Safety_Equipment</th>\n",
       "      <th>Sex</th>\n",
       "      <th>Vehicle_Maneuver</th>\n",
       "      <th>Number_of_Vehicles</th>\n",
       "      <th>Collision_With_Fixed_Object</th>\n",
       "      <th>...</th>\n",
       "      <th>Left_or_U-Turn_Involved</th>\n",
       "      <th>First_Harmful_Event_Location</th>\n",
       "      <th>Speed_Involved</th>\n",
       "      <th>Wild_Animal_Involved</th>\n",
       "      <th>Wrong_Way_Driving_Involved</th>\n",
       "      <th>Manner_of_Collision</th>\n",
       "      <th>JunctionType</th>\n",
       "      <th>Light_Condition</th>\n",
       "      <th>Weather_Condition</th>\n",
       "      <th>Roadway_Surface_Condition</th>\n",
       "    </tr>\n",
       "  </thead>\n",
       "  <tbody>\n",
       "    <tr>\n",
       "      <th>0</th>\n",
       "      <td>N</td>\n",
       "      <td>N</td>\n",
       "      <td>Urban</td>\n",
       "      <td>Middle</td>\n",
       "      <td>None</td>\n",
       "      <td>Helmet worn</td>\n",
       "      <td>Female</td>\n",
       "      <td>Changing Lanes</td>\n",
       "      <td>Multi</td>\n",
       "      <td>N</td>\n",
       "      <td>...</td>\n",
       "      <td>N</td>\n",
       "      <td>On Roadway</td>\n",
       "      <td>N</td>\n",
       "      <td>N</td>\n",
       "      <td>N</td>\n",
       "      <td>Front to Rear</td>\n",
       "      <td>No Special Feature/Junction</td>\n",
       "      <td>Dusk</td>\n",
       "      <td>Clear</td>\n",
       "      <td>Dry</td>\n",
       "    </tr>\n",
       "    <tr>\n",
       "      <th>1</th>\n",
       "      <td>N</td>\n",
       "      <td>N</td>\n",
       "      <td>Rural</td>\n",
       "      <td>Middle</td>\n",
       "      <td>None</td>\n",
       "      <td>No helmet worn</td>\n",
       "      <td>Male</td>\n",
       "      <td>Backing</td>\n",
       "      <td>Multi</td>\n",
       "      <td>N</td>\n",
       "      <td>...</td>\n",
       "      <td>N</td>\n",
       "      <td>Shoulder</td>\n",
       "      <td>N</td>\n",
       "      <td>N</td>\n",
       "      <td>N</td>\n",
       "      <td>Parked Vehicle</td>\n",
       "      <td>No Special Feature/Junction</td>\n",
       "      <td>Daylight</td>\n",
       "      <td>Clear</td>\n",
       "      <td>Dry</td>\n",
       "    </tr>\n",
       "    <tr>\n",
       "      <th>2</th>\n",
       "      <td>N</td>\n",
       "      <td>N</td>\n",
       "      <td>Rural</td>\n",
       "      <td>Middle</td>\n",
       "      <td>None</td>\n",
       "      <td>Helmet worn</td>\n",
       "      <td>Female</td>\n",
       "      <td>Straight Ahead</td>\n",
       "      <td>Multi</td>\n",
       "      <td>N</td>\n",
       "      <td>...</td>\n",
       "      <td>N</td>\n",
       "      <td>On Roadway</td>\n",
       "      <td>N</td>\n",
       "      <td>N</td>\n",
       "      <td>N</td>\n",
       "      <td>Sideswipe Same Direction</td>\n",
       "      <td>No Special Feature/Junction</td>\n",
       "      <td>Daylight</td>\n",
       "      <td>Clear</td>\n",
       "      <td>Dry</td>\n",
       "    </tr>\n",
       "    <tr>\n",
       "      <th>3</th>\n",
       "      <td>N</td>\n",
       "      <td>N</td>\n",
       "      <td>Urban</td>\n",
       "      <td>Young</td>\n",
       "      <td>None</td>\n",
       "      <td>Helmet worn</td>\n",
       "      <td>Female</td>\n",
       "      <td>Stopped in Traffic Lane</td>\n",
       "      <td>Multi</td>\n",
       "      <td>N</td>\n",
       "      <td>...</td>\n",
       "      <td>N</td>\n",
       "      <td>On Roadway</td>\n",
       "      <td>N</td>\n",
       "      <td>N</td>\n",
       "      <td>N</td>\n",
       "      <td>Front to Rear</td>\n",
       "      <td>No Special Feature/Junction</td>\n",
       "      <td>Daylight</td>\n",
       "      <td>Cloudy</td>\n",
       "      <td>Dry</td>\n",
       "    </tr>\n",
       "    <tr>\n",
       "      <th>4</th>\n",
       "      <td>N</td>\n",
       "      <td>N</td>\n",
       "      <td>Rural</td>\n",
       "      <td>Middle</td>\n",
       "      <td>Upper Extremity</td>\n",
       "      <td>Helmet worn</td>\n",
       "      <td>Male</td>\n",
       "      <td>Straight Ahead</td>\n",
       "      <td>Single</td>\n",
       "      <td>Y</td>\n",
       "      <td>...</td>\n",
       "      <td>N</td>\n",
       "      <td>Median</td>\n",
       "      <td>Y</td>\n",
       "      <td>N</td>\n",
       "      <td>N</td>\n",
       "      <td>Not Applicable/Single Vehicle</td>\n",
       "      <td>No Special Feature/Junction</td>\n",
       "      <td>Daylight</td>\n",
       "      <td>Clear</td>\n",
       "      <td>Dry</td>\n",
       "    </tr>\n",
       "  </tbody>\n",
       "</table>\n",
       "<p>5 rows × 24 columns</p>\n",
       "</div>"
      ],
      "text/plain": [
       "  Alcohol_Suspected Drug_Suspected Location     Age     Injury_Area   \\\n",
       "0                 N              N    Urban  Middle             None   \n",
       "1                 N              N    Rural  Middle             None   \n",
       "2                 N              N    Rural  Middle             None   \n",
       "3                 N              N    Urban   Young             None   \n",
       "4                 N              N    Rural  Middle  Upper Extremity   \n",
       "\n",
       "  Safety_Equipment    Sex          Vehicle_Maneuver Number_of_Vehicles  \\\n",
       "0      Helmet worn  Female           Changing Lanes              Multi   \n",
       "1   No helmet worn    Male                  Backing              Multi   \n",
       "2      Helmet worn  Female           Straight Ahead              Multi   \n",
       "3      Helmet worn  Female  Stopped in Traffic Lane              Multi   \n",
       "4      Helmet worn    Male           Straight Ahead             Single   \n",
       "\n",
       "  Collision_With_Fixed_Object  ... Left_or_U-Turn_Involved  \\\n",
       "0                           N  ...                       N   \n",
       "1                           N  ...                       N   \n",
       "2                           N  ...                       N   \n",
       "3                           N  ...                       N   \n",
       "4                           Y  ...                       N   \n",
       "\n",
       "  First_Harmful_Event_Location Speed_Involved Wild_Animal_Involved  \\\n",
       "0                   On Roadway              N                    N   \n",
       "1                     Shoulder              N                    N   \n",
       "2                   On Roadway              N                    N   \n",
       "3                   On Roadway              N                    N   \n",
       "4                       Median              Y                    N   \n",
       "\n",
       "  Wrong_Way_Driving_Involved            Manner_of_Collision  \\\n",
       "0                          N                  Front to Rear   \n",
       "1                          N                 Parked Vehicle   \n",
       "2                          N       Sideswipe Same Direction   \n",
       "3                          N                  Front to Rear   \n",
       "4                          N  Not Applicable/Single Vehicle   \n",
       "\n",
       "                 JunctionType  Light_Condition Weather_Condition  \\\n",
       "0  No Special Feature/Junction            Dusk             Clear   \n",
       "1  No Special Feature/Junction        Daylight             Clear   \n",
       "2  No Special Feature/Junction        Daylight             Clear   \n",
       "3  No Special Feature/Junction        Daylight            Cloudy   \n",
       "4  No Special Feature/Junction        Daylight             Clear   \n",
       "\n",
       "  Roadway_Surface_Condition  \n",
       "0                       Dry  \n",
       "1                       Dry  \n",
       "2                       Dry  \n",
       "3                       Dry  \n",
       "4                       Dry  \n",
       "\n",
       "[5 rows x 24 columns]"
      ]
     },
     "execution_count": 73,
     "metadata": {},
     "output_type": "execute_result"
    }
   ],
   "source": [
    "X.head()"
   ]
  },
  {
   "cell_type": "code",
   "execution_count": 74,
   "metadata": {},
   "outputs": [
    {
     "data": {
      "text/html": [
       "<div>\n",
       "<style scoped>\n",
       "    .dataframe tbody tr th:only-of-type {\n",
       "        vertical-align: middle;\n",
       "    }\n",
       "\n",
       "    .dataframe tbody tr th {\n",
       "        vertical-align: top;\n",
       "    }\n",
       "\n",
       "    .dataframe thead th {\n",
       "        text-align: right;\n",
       "    }\n",
       "</style>\n",
       "<table border=\"1\" class=\"dataframe\">\n",
       "  <thead>\n",
       "    <tr style=\"text-align: right;\">\n",
       "      <th></th>\n",
       "      <th>Alcohol_Suspected</th>\n",
       "      <th>Drug_Suspected</th>\n",
       "      <th>Location</th>\n",
       "      <th>Age</th>\n",
       "      <th>Injury_Area</th>\n",
       "      <th>Safety_Equipment</th>\n",
       "      <th>Sex</th>\n",
       "      <th>Vehicle_Maneuver</th>\n",
       "      <th>Collision_With_Fixed_Object</th>\n",
       "      <th>Left_or_U-Turn_Involved</th>\n",
       "      <th>Speed_Involved</th>\n",
       "      <th>Manner_of_Collision</th>\n",
       "      <th>Weather_Condition</th>\n",
       "    </tr>\n",
       "  </thead>\n",
       "  <tbody>\n",
       "    <tr>\n",
       "      <th>0</th>\n",
       "      <td>N</td>\n",
       "      <td>N</td>\n",
       "      <td>Urban</td>\n",
       "      <td>Middle</td>\n",
       "      <td>None</td>\n",
       "      <td>Helmet worn</td>\n",
       "      <td>Female</td>\n",
       "      <td>Changing Lanes</td>\n",
       "      <td>N</td>\n",
       "      <td>N</td>\n",
       "      <td>N</td>\n",
       "      <td>Front to Rear</td>\n",
       "      <td>Clear</td>\n",
       "    </tr>\n",
       "    <tr>\n",
       "      <th>1</th>\n",
       "      <td>N</td>\n",
       "      <td>N</td>\n",
       "      <td>Rural</td>\n",
       "      <td>Middle</td>\n",
       "      <td>None</td>\n",
       "      <td>No helmet worn</td>\n",
       "      <td>Male</td>\n",
       "      <td>Backing</td>\n",
       "      <td>N</td>\n",
       "      <td>N</td>\n",
       "      <td>N</td>\n",
       "      <td>Parked Vehicle</td>\n",
       "      <td>Clear</td>\n",
       "    </tr>\n",
       "    <tr>\n",
       "      <th>2</th>\n",
       "      <td>N</td>\n",
       "      <td>N</td>\n",
       "      <td>Rural</td>\n",
       "      <td>Middle</td>\n",
       "      <td>None</td>\n",
       "      <td>Helmet worn</td>\n",
       "      <td>Female</td>\n",
       "      <td>Straight Ahead</td>\n",
       "      <td>N</td>\n",
       "      <td>N</td>\n",
       "      <td>N</td>\n",
       "      <td>Sideswipe Same Direction</td>\n",
       "      <td>Clear</td>\n",
       "    </tr>\n",
       "    <tr>\n",
       "      <th>3</th>\n",
       "      <td>N</td>\n",
       "      <td>N</td>\n",
       "      <td>Urban</td>\n",
       "      <td>Young</td>\n",
       "      <td>None</td>\n",
       "      <td>Helmet worn</td>\n",
       "      <td>Female</td>\n",
       "      <td>Stopped in Traffic Lane</td>\n",
       "      <td>N</td>\n",
       "      <td>N</td>\n",
       "      <td>N</td>\n",
       "      <td>Front to Rear</td>\n",
       "      <td>Cloudy</td>\n",
       "    </tr>\n",
       "    <tr>\n",
       "      <th>4</th>\n",
       "      <td>N</td>\n",
       "      <td>N</td>\n",
       "      <td>Rural</td>\n",
       "      <td>Middle</td>\n",
       "      <td>Upper Extremity</td>\n",
       "      <td>Helmet worn</td>\n",
       "      <td>Male</td>\n",
       "      <td>Straight Ahead</td>\n",
       "      <td>Y</td>\n",
       "      <td>N</td>\n",
       "      <td>Y</td>\n",
       "      <td>Not Applicable/Single Vehicle</td>\n",
       "      <td>Clear</td>\n",
       "    </tr>\n",
       "  </tbody>\n",
       "</table>\n",
       "</div>"
      ],
      "text/plain": [
       "  Alcohol_Suspected Drug_Suspected Location     Age     Injury_Area   \\\n",
       "0                 N              N    Urban  Middle             None   \n",
       "1                 N              N    Rural  Middle             None   \n",
       "2                 N              N    Rural  Middle             None   \n",
       "3                 N              N    Urban   Young             None   \n",
       "4                 N              N    Rural  Middle  Upper Extremity   \n",
       "\n",
       "  Safety_Equipment    Sex          Vehicle_Maneuver  \\\n",
       "0      Helmet worn  Female           Changing Lanes   \n",
       "1   No helmet worn    Male                  Backing   \n",
       "2      Helmet worn  Female           Straight Ahead   \n",
       "3      Helmet worn  Female  Stopped in Traffic Lane   \n",
       "4      Helmet worn    Male           Straight Ahead   \n",
       "\n",
       "  Collision_With_Fixed_Object Left_or_U-Turn_Involved Speed_Involved  \\\n",
       "0                           N                       N              N   \n",
       "1                           N                       N              N   \n",
       "2                           N                       N              N   \n",
       "3                           N                       N              N   \n",
       "4                           Y                       N              Y   \n",
       "\n",
       "             Manner_of_Collision Weather_Condition  \n",
       "0                  Front to Rear             Clear  \n",
       "1                 Parked Vehicle             Clear  \n",
       "2       Sideswipe Same Direction             Clear  \n",
       "3                  Front to Rear            Cloudy  \n",
       "4  Not Applicable/Single Vehicle             Clear  "
      ]
     },
     "execution_count": 74,
     "metadata": {},
     "output_type": "execute_result"
    }
   ],
   "source": [
    "X1 = X.iloc[:,[0,1,2,3,4,5,6,7,9,14,16,19,22]]\n",
    "X1.head()"
   ]
  },
  {
   "cell_type": "code",
   "execution_count": 7,
   "metadata": {
    "scrolled": true
   },
   "outputs": [
    {
     "data": {
      "text/plain": [
       "0        0\n",
       "1        0\n",
       "2        0\n",
       "3        0\n",
       "4        0\n",
       "        ..\n",
       "13139    1\n",
       "13140    0\n",
       "13141    0\n",
       "13142    0\n",
       "13143    1\n",
       "Name: Crash_Severity_Num, Length: 13144, dtype: int64"
      ]
     },
     "execution_count": 7,
     "metadata": {},
     "output_type": "execute_result"
    }
   ],
   "source": [
    "y"
   ]
  },
  {
   "cell_type": "code",
   "execution_count": 75,
   "metadata": {},
   "outputs": [
    {
     "data": {
      "text/plain": [
       "array([['N', 'N', 'Urban', ..., 'N', 'Front to Rear', 'Clear'],\n",
       "       ['N', 'N', 'Rural', ..., 'N', 'Parked Vehicle', 'Clear'],\n",
       "       ['N', 'N', 'Rural', ..., 'N', 'Sideswipe Same Direction', 'Clear'],\n",
       "       ...,\n",
       "       ['N', 'N', 'Urban', ..., 'N', 'Sideswipe Same Direction',\n",
       "        'Cloudy'],\n",
       "       ['N', 'N', 'Urban', ..., 'N', 'Other', 'Clear'],\n",
       "       ['N', 'N', 'Urban', ..., 'N', 'Not Applicable/Single Vehicle',\n",
       "        'Cloudy']], dtype=object)"
      ]
     },
     "execution_count": 75,
     "metadata": {},
     "output_type": "execute_result"
    }
   ],
   "source": [
    "X = np.array(X1)\n",
    "X"
   ]
  },
  {
   "cell_type": "markdown",
   "metadata": {},
   "source": [
    "## Handling Missing Values"
   ]
  },
  {
   "cell_type": "code",
   "execution_count": 9,
   "metadata": {},
   "outputs": [
    {
     "data": {
      "text/plain": [
       "Crash_ID                           0\n",
       "Alcohol_Suspected                 17\n",
       "Drug_Suspected                    17\n",
       "Location                           0\n",
       "Age                               18\n",
       "Injury_Area                      365\n",
       "Safety_Equipment                 428\n",
       "Sex                              122\n",
       "Vehicle_Maneuver                  31\n",
       "Number_of_Vehicles                 0\n",
       "Collision_With_Fixed_Object        0\n",
       "First_Harmful_Event_of_Crash       0\n",
       "Horizontal_Alignment            1944\n",
       "Vertical_Alignment              1782\n",
       "Intersection_Involved              0\n",
       "Left_or_U-Turn_Involved            0\n",
       "First_Harmful_Event_Location      92\n",
       "Speed_Involved                     0\n",
       "Wild_Animal_Involved               0\n",
       "Wrong_Way_Driving_Involved         0\n",
       "Manner_of_Collision               69\n",
       "JunctionType                      21\n",
       "Light_Condition                   46\n",
       "Weather_Condition                 71\n",
       "Roadway_Surface_Condition         64\n",
       "Crash_Severity                     0\n",
       "Crash_Severity_Num                 0\n",
       "Latitude                           6\n",
       "Longitude                          6\n",
       "dtype: int64"
      ]
     },
     "execution_count": 9,
     "metadata": {},
     "output_type": "execute_result"
    }
   ],
   "source": [
    "dataset.isnull().sum()"
   ]
  },
  {
   "cell_type": "code",
   "execution_count": 76,
   "metadata": {},
   "outputs": [],
   "source": [
    "# Use Simple Imputer - Convert the NaN values to Missing\n",
    "from sklearn.impute import SimpleImputer\n",
    "si = SimpleImputer(strategy = \"most_frequent\")\n",
    "X = si.fit_transform(X)"
   ]
  },
  {
   "cell_type": "code",
   "execution_count": 77,
   "metadata": {
    "scrolled": true
   },
   "outputs": [
    {
     "data": {
      "text/plain": [
       "array([['N', 'N', 'Urban', ..., 'N', 'Front to Rear', 'Clear'],\n",
       "       ['N', 'N', 'Rural', ..., 'N', 'Parked Vehicle', 'Clear'],\n",
       "       ['N', 'N', 'Rural', ..., 'N', 'Sideswipe Same Direction', 'Clear'],\n",
       "       ...,\n",
       "       ['N', 'N', 'Urban', ..., 'N', 'Sideswipe Same Direction',\n",
       "        'Cloudy'],\n",
       "       ['N', 'N', 'Urban', ..., 'N', 'Other', 'Clear'],\n",
       "       ['N', 'N', 'Urban', ..., 'N', 'Not Applicable/Single Vehicle',\n",
       "        'Cloudy']], dtype=object)"
      ]
     },
     "execution_count": 77,
     "metadata": {},
     "output_type": "execute_result"
    }
   ],
   "source": [
    "X"
   ]
  },
  {
   "cell_type": "markdown",
   "metadata": {},
   "source": [
    "## Encoding of Categorical Features"
   ]
  },
  {
   "cell_type": "code",
   "execution_count": 78,
   "metadata": {},
   "outputs": [],
   "source": [
    "from sklearn.preprocessing import LabelEncoder, OneHotEncoder\n",
    "le = LabelEncoder()"
   ]
  },
  {
   "cell_type": "code",
   "execution_count": 79,
   "metadata": {},
   "outputs": [],
   "source": [
    "for i in range(X.shape[1]):\n",
    "    X[:, i] = le.fit_transform(X[:, i])"
   ]
  },
  {
   "cell_type": "code",
   "execution_count": 80,
   "metadata": {
    "scrolled": true
   },
   "outputs": [
    {
     "data": {
      "text/plain": [
       "array([[0, 0, 1, ..., 0, 1, 2],\n",
       "       [0, 0, 0, ..., 0, 5, 2],\n",
       "       [0, 0, 0, ..., 0, 9, 2],\n",
       "       ...,\n",
       "       [0, 0, 1, ..., 0, 9, 3],\n",
       "       [0, 0, 1, ..., 0, 4, 2],\n",
       "       [0, 0, 1, ..., 0, 3, 3]], dtype=object)"
      ]
     },
     "execution_count": 80,
     "metadata": {},
     "output_type": "execute_result"
    }
   ],
   "source": [
    "X"
   ]
  },
  {
   "cell_type": "code",
   "execution_count": 81,
   "metadata": {},
   "outputs": [
    {
     "data": {
      "text/plain": [
       "(13144, 13)"
      ]
     },
     "execution_count": 81,
     "metadata": {},
     "output_type": "execute_result"
    }
   ],
   "source": [
    "X.shape"
   ]
  },
  {
   "cell_type": "code",
   "execution_count": 16,
   "metadata": {},
   "outputs": [
    {
     "data": {
      "text/plain": [
       "(13144,)"
      ]
     },
     "execution_count": 16,
     "metadata": {},
     "output_type": "execute_result"
    }
   ],
   "source": [
    "y.shape"
   ]
  },
  {
   "cell_type": "markdown",
   "metadata": {
    "id": "i3FBTRwzxzl7"
   },
   "source": [
    "## Splitting the dataset into the Training set and Test set"
   ]
  },
  {
   "cell_type": "code",
   "execution_count": 17,
   "metadata": {
    "executionInfo": {
     "elapsed": 1061,
     "status": "ok",
     "timestamp": 1667115002354,
     "user": {
      "displayName": "Hadelin de Ponteves",
      "userId": "15047218817161520419"
     },
     "user_tz": -240
    },
    "id": "V5TZ-0qSx5mX"
   },
   "outputs": [],
   "source": [
    "from sklearn.model_selection import train_test_split\n",
    "X_train, X_test, y_train, y_test = train_test_split(X, y, test_size = 0.20, random_state = 42)"
   ]
  },
  {
   "cell_type": "markdown",
   "metadata": {
    "id": "WPt8zMSIxrJ7"
   },
   "source": [
    "## Feature Scaling"
   ]
  },
  {
   "cell_type": "code",
   "execution_count": 18,
   "metadata": {
    "executionInfo": {
     "elapsed": 5,
     "status": "ok",
     "timestamp": 1667115002355,
     "user": {
      "displayName": "Hadelin de Ponteves",
      "userId": "15047218817161520419"
     },
     "user_tz": -240
    },
    "id": "c60y-wPDxvY-"
   },
   "outputs": [],
   "source": [
    "from sklearn.preprocessing import StandardScaler\n",
    "sc = StandardScaler()\n",
    "X_train = sc.fit_transform(X_train)\n",
    "X_test = sc.transform(X_test)"
   ]
  },
  {
   "cell_type": "markdown",
   "metadata": {},
   "source": [
    "## Feature Selection - Part 1"
   ]
  },
  {
   "cell_type": "markdown",
   "metadata": {},
   "source": [
    "#### Forward"
   ]
  },
  {
   "cell_type": "markdown",
   "metadata": {},
   "source": [
    "##### Random Forest"
   ]
  },
  {
   "cell_type": "code",
   "execution_count": 84,
   "metadata": {},
   "outputs": [
    {
     "data": {
      "text/html": [
       "<style>#sk-container-id-8 {color: black;background-color: white;}#sk-container-id-8 pre{padding: 0;}#sk-container-id-8 div.sk-toggleable {background-color: white;}#sk-container-id-8 label.sk-toggleable__label {cursor: pointer;display: block;width: 100%;margin-bottom: 0;padding: 0.3em;box-sizing: border-box;text-align: center;}#sk-container-id-8 label.sk-toggleable__label-arrow:before {content: \"▸\";float: left;margin-right: 0.25em;color: #696969;}#sk-container-id-8 label.sk-toggleable__label-arrow:hover:before {color: black;}#sk-container-id-8 div.sk-estimator:hover label.sk-toggleable__label-arrow:before {color: black;}#sk-container-id-8 div.sk-toggleable__content {max-height: 0;max-width: 0;overflow: hidden;text-align: left;background-color: #f0f8ff;}#sk-container-id-8 div.sk-toggleable__content pre {margin: 0.2em;color: black;border-radius: 0.25em;background-color: #f0f8ff;}#sk-container-id-8 input.sk-toggleable__control:checked~div.sk-toggleable__content {max-height: 200px;max-width: 100%;overflow: auto;}#sk-container-id-8 input.sk-toggleable__control:checked~label.sk-toggleable__label-arrow:before {content: \"▾\";}#sk-container-id-8 div.sk-estimator input.sk-toggleable__control:checked~label.sk-toggleable__label {background-color: #d4ebff;}#sk-container-id-8 div.sk-label input.sk-toggleable__control:checked~label.sk-toggleable__label {background-color: #d4ebff;}#sk-container-id-8 input.sk-hidden--visually {border: 0;clip: rect(1px 1px 1px 1px);clip: rect(1px, 1px, 1px, 1px);height: 1px;margin: -1px;overflow: hidden;padding: 0;position: absolute;width: 1px;}#sk-container-id-8 div.sk-estimator {font-family: monospace;background-color: #f0f8ff;border: 1px dotted black;border-radius: 0.25em;box-sizing: border-box;margin-bottom: 0.5em;}#sk-container-id-8 div.sk-estimator:hover {background-color: #d4ebff;}#sk-container-id-8 div.sk-parallel-item::after {content: \"\";width: 100%;border-bottom: 1px solid gray;flex-grow: 1;}#sk-container-id-8 div.sk-label:hover label.sk-toggleable__label {background-color: #d4ebff;}#sk-container-id-8 div.sk-serial::before {content: \"\";position: absolute;border-left: 1px solid gray;box-sizing: border-box;top: 0;bottom: 0;left: 50%;z-index: 0;}#sk-container-id-8 div.sk-serial {display: flex;flex-direction: column;align-items: center;background-color: white;padding-right: 0.2em;padding-left: 0.2em;position: relative;}#sk-container-id-8 div.sk-item {position: relative;z-index: 1;}#sk-container-id-8 div.sk-parallel {display: flex;align-items: stretch;justify-content: center;background-color: white;position: relative;}#sk-container-id-8 div.sk-item::before, #sk-container-id-8 div.sk-parallel-item::before {content: \"\";position: absolute;border-left: 1px solid gray;box-sizing: border-box;top: 0;bottom: 0;left: 50%;z-index: -1;}#sk-container-id-8 div.sk-parallel-item {display: flex;flex-direction: column;z-index: 1;position: relative;background-color: white;}#sk-container-id-8 div.sk-parallel-item:first-child::after {align-self: flex-end;width: 50%;}#sk-container-id-8 div.sk-parallel-item:last-child::after {align-self: flex-start;width: 50%;}#sk-container-id-8 div.sk-parallel-item:only-child::after {width: 0;}#sk-container-id-8 div.sk-dashed-wrapped {border: 1px dashed gray;margin: 0 0.4em 0.5em 0.4em;box-sizing: border-box;padding-bottom: 0.4em;background-color: white;}#sk-container-id-8 div.sk-label label {font-family: monospace;font-weight: bold;display: inline-block;line-height: 1.2em;}#sk-container-id-8 div.sk-label-container {text-align: center;}#sk-container-id-8 div.sk-container {/* jupyter's `normalize.less` sets `[hidden] { display: none; }` but bootstrap.min.css set `[hidden] { display: none !important; }` so we also need the `!important` here to be able to override the default hidden behavior on the sphinx rendered scikit-learn.org. See: https://github.com/scikit-learn/scikit-learn/issues/21755 */display: inline-block !important;position: relative;}#sk-container-id-8 div.sk-text-repr-fallback {display: none;}</style><div id=\"sk-container-id-8\" class=\"sk-top-container\"><div class=\"sk-text-repr-fallback\"><pre>SequentialFeatureSelector(cv=10, estimator=RandomForestClassifier(),\n",
       "                          n_features_to_select=&#x27;auto&#x27;, scoring=&#x27;accuracy&#x27;)</pre><b>In a Jupyter environment, please rerun this cell to show the HTML representation or trust the notebook. <br />On GitHub, the HTML representation is unable to render, please try loading this page with nbviewer.org.</b></div><div class=\"sk-container\" hidden><div class=\"sk-item sk-dashed-wrapped\"><div class=\"sk-label-container\"><div class=\"sk-label sk-toggleable\"><input class=\"sk-toggleable__control sk-hidden--visually\" id=\"sk-estimator-id-22\" type=\"checkbox\" ><label for=\"sk-estimator-id-22\" class=\"sk-toggleable__label sk-toggleable__label-arrow\">SequentialFeatureSelector</label><div class=\"sk-toggleable__content\"><pre>SequentialFeatureSelector(cv=10, estimator=RandomForestClassifier(),\n",
       "                          n_features_to_select=&#x27;auto&#x27;, scoring=&#x27;accuracy&#x27;)</pre></div></div></div><div class=\"sk-parallel\"><div class=\"sk-parallel-item\"><div class=\"sk-item\"><div class=\"sk-label-container\"><div class=\"sk-label sk-toggleable\"><input class=\"sk-toggleable__control sk-hidden--visually\" id=\"sk-estimator-id-23\" type=\"checkbox\" ><label for=\"sk-estimator-id-23\" class=\"sk-toggleable__label sk-toggleable__label-arrow\">estimator: RandomForestClassifier</label><div class=\"sk-toggleable__content\"><pre>RandomForestClassifier()</pre></div></div></div><div class=\"sk-serial\"><div class=\"sk-item\"><div class=\"sk-estimator sk-toggleable\"><input class=\"sk-toggleable__control sk-hidden--visually\" id=\"sk-estimator-id-24\" type=\"checkbox\" ><label for=\"sk-estimator-id-24\" class=\"sk-toggleable__label sk-toggleable__label-arrow\">RandomForestClassifier</label><div class=\"sk-toggleable__content\"><pre>RandomForestClassifier()</pre></div></div></div></div></div></div></div></div></div></div>"
      ],
      "text/plain": [
       "SequentialFeatureSelector(cv=10, estimator=RandomForestClassifier(),\n",
       "                          n_features_to_select='auto', scoring='accuracy')"
      ]
     },
     "execution_count": 84,
     "metadata": {},
     "output_type": "execute_result"
    }
   ],
   "source": [
    "from sklearn.feature_selection import SequentialFeatureSelector\n",
    "from sklearn.ensemble import RandomForestClassifier\n",
    "sfs = SequentialFeatureSelector(estimator  = RandomForestClassifier(), n_features_to_select=\"auto\", direction=\"forward\", \n",
    "                                scoring= \"accuracy\", cv=10)\n",
    "sfs.fit(X_train, y_train)"
   ]
  },
  {
   "cell_type": "code",
   "execution_count": 85,
   "metadata": {
    "scrolled": true
   },
   "outputs": [
    {
     "data": {
      "text/plain": [
       "12"
      ]
     },
     "execution_count": 85,
     "metadata": {},
     "output_type": "execute_result"
    }
   ],
   "source": [
    "sfs.n_features_to_select_"
   ]
  },
  {
   "cell_type": "code",
   "execution_count": 86,
   "metadata": {
    "scrolled": true
   },
   "outputs": [
    {
     "data": {
      "text/plain": [
       "array([False,  True,  True,  True,  True,  True,  True, False, False,\n",
       "       False,  True,  True, False, False,  True, False,  True, False,\n",
       "        True, False,  True, False, False, False])"
      ]
     },
     "execution_count": 86,
     "metadata": {},
     "output_type": "execute_result"
    }
   ],
   "source": [
    "sfs.support_"
   ]
  },
  {
   "cell_type": "markdown",
   "metadata": {},
   "source": [
    "##### Logistic Regression"
   ]
  },
  {
   "cell_type": "code",
   "execution_count": 23,
   "metadata": {},
   "outputs": [
    {
     "data": {
      "text/html": [
       "<style>#sk-container-id-2 {color: black;background-color: white;}#sk-container-id-2 pre{padding: 0;}#sk-container-id-2 div.sk-toggleable {background-color: white;}#sk-container-id-2 label.sk-toggleable__label {cursor: pointer;display: block;width: 100%;margin-bottom: 0;padding: 0.3em;box-sizing: border-box;text-align: center;}#sk-container-id-2 label.sk-toggleable__label-arrow:before {content: \"▸\";float: left;margin-right: 0.25em;color: #696969;}#sk-container-id-2 label.sk-toggleable__label-arrow:hover:before {color: black;}#sk-container-id-2 div.sk-estimator:hover label.sk-toggleable__label-arrow:before {color: black;}#sk-container-id-2 div.sk-toggleable__content {max-height: 0;max-width: 0;overflow: hidden;text-align: left;background-color: #f0f8ff;}#sk-container-id-2 div.sk-toggleable__content pre {margin: 0.2em;color: black;border-radius: 0.25em;background-color: #f0f8ff;}#sk-container-id-2 input.sk-toggleable__control:checked~div.sk-toggleable__content {max-height: 200px;max-width: 100%;overflow: auto;}#sk-container-id-2 input.sk-toggleable__control:checked~label.sk-toggleable__label-arrow:before {content: \"▾\";}#sk-container-id-2 div.sk-estimator input.sk-toggleable__control:checked~label.sk-toggleable__label {background-color: #d4ebff;}#sk-container-id-2 div.sk-label input.sk-toggleable__control:checked~label.sk-toggleable__label {background-color: #d4ebff;}#sk-container-id-2 input.sk-hidden--visually {border: 0;clip: rect(1px 1px 1px 1px);clip: rect(1px, 1px, 1px, 1px);height: 1px;margin: -1px;overflow: hidden;padding: 0;position: absolute;width: 1px;}#sk-container-id-2 div.sk-estimator {font-family: monospace;background-color: #f0f8ff;border: 1px dotted black;border-radius: 0.25em;box-sizing: border-box;margin-bottom: 0.5em;}#sk-container-id-2 div.sk-estimator:hover {background-color: #d4ebff;}#sk-container-id-2 div.sk-parallel-item::after {content: \"\";width: 100%;border-bottom: 1px solid gray;flex-grow: 1;}#sk-container-id-2 div.sk-label:hover label.sk-toggleable__label {background-color: #d4ebff;}#sk-container-id-2 div.sk-serial::before {content: \"\";position: absolute;border-left: 1px solid gray;box-sizing: border-box;top: 0;bottom: 0;left: 50%;z-index: 0;}#sk-container-id-2 div.sk-serial {display: flex;flex-direction: column;align-items: center;background-color: white;padding-right: 0.2em;padding-left: 0.2em;position: relative;}#sk-container-id-2 div.sk-item {position: relative;z-index: 1;}#sk-container-id-2 div.sk-parallel {display: flex;align-items: stretch;justify-content: center;background-color: white;position: relative;}#sk-container-id-2 div.sk-item::before, #sk-container-id-2 div.sk-parallel-item::before {content: \"\";position: absolute;border-left: 1px solid gray;box-sizing: border-box;top: 0;bottom: 0;left: 50%;z-index: -1;}#sk-container-id-2 div.sk-parallel-item {display: flex;flex-direction: column;z-index: 1;position: relative;background-color: white;}#sk-container-id-2 div.sk-parallel-item:first-child::after {align-self: flex-end;width: 50%;}#sk-container-id-2 div.sk-parallel-item:last-child::after {align-self: flex-start;width: 50%;}#sk-container-id-2 div.sk-parallel-item:only-child::after {width: 0;}#sk-container-id-2 div.sk-dashed-wrapped {border: 1px dashed gray;margin: 0 0.4em 0.5em 0.4em;box-sizing: border-box;padding-bottom: 0.4em;background-color: white;}#sk-container-id-2 div.sk-label label {font-family: monospace;font-weight: bold;display: inline-block;line-height: 1.2em;}#sk-container-id-2 div.sk-label-container {text-align: center;}#sk-container-id-2 div.sk-container {/* jupyter's `normalize.less` sets `[hidden] { display: none; }` but bootstrap.min.css set `[hidden] { display: none !important; }` so we also need the `!important` here to be able to override the default hidden behavior on the sphinx rendered scikit-learn.org. See: https://github.com/scikit-learn/scikit-learn/issues/21755 */display: inline-block !important;position: relative;}#sk-container-id-2 div.sk-text-repr-fallback {display: none;}</style><div id=\"sk-container-id-2\" class=\"sk-top-container\"><div class=\"sk-text-repr-fallback\"><pre>SequentialFeatureSelector(cv=10, estimator=LogisticRegression(),\n",
       "                          n_features_to_select=&#x27;auto&#x27;, scoring=&#x27;accuracy&#x27;)</pre><b>In a Jupyter environment, please rerun this cell to show the HTML representation or trust the notebook. <br />On GitHub, the HTML representation is unable to render, please try loading this page with nbviewer.org.</b></div><div class=\"sk-container\" hidden><div class=\"sk-item sk-dashed-wrapped\"><div class=\"sk-label-container\"><div class=\"sk-label sk-toggleable\"><input class=\"sk-toggleable__control sk-hidden--visually\" id=\"sk-estimator-id-4\" type=\"checkbox\" ><label for=\"sk-estimator-id-4\" class=\"sk-toggleable__label sk-toggleable__label-arrow\">SequentialFeatureSelector</label><div class=\"sk-toggleable__content\"><pre>SequentialFeatureSelector(cv=10, estimator=LogisticRegression(),\n",
       "                          n_features_to_select=&#x27;auto&#x27;, scoring=&#x27;accuracy&#x27;)</pre></div></div></div><div class=\"sk-parallel\"><div class=\"sk-parallel-item\"><div class=\"sk-item\"><div class=\"sk-label-container\"><div class=\"sk-label sk-toggleable\"><input class=\"sk-toggleable__control sk-hidden--visually\" id=\"sk-estimator-id-5\" type=\"checkbox\" ><label for=\"sk-estimator-id-5\" class=\"sk-toggleable__label sk-toggleable__label-arrow\">estimator: LogisticRegression</label><div class=\"sk-toggleable__content\"><pre>LogisticRegression()</pre></div></div></div><div class=\"sk-serial\"><div class=\"sk-item\"><div class=\"sk-estimator sk-toggleable\"><input class=\"sk-toggleable__control sk-hidden--visually\" id=\"sk-estimator-id-6\" type=\"checkbox\" ><label for=\"sk-estimator-id-6\" class=\"sk-toggleable__label sk-toggleable__label-arrow\">LogisticRegression</label><div class=\"sk-toggleable__content\"><pre>LogisticRegression()</pre></div></div></div></div></div></div></div></div></div></div>"
      ],
      "text/plain": [
       "SequentialFeatureSelector(cv=10, estimator=LogisticRegression(),\n",
       "                          n_features_to_select='auto', scoring='accuracy')"
      ]
     },
     "execution_count": 23,
     "metadata": {},
     "output_type": "execute_result"
    }
   ],
   "source": [
    "from sklearn.linear_model import LogisticRegression\n",
    "from sklearn.feature_selection import SequentialFeatureSelector\n",
    "sfs_lr = SequentialFeatureSelector(estimator = LogisticRegression(), n_features_to_select=\"auto\", direction=\"forward\", \n",
    "                                scoring= \"accuracy\", cv=10)\n",
    "sfs_lr.fit(X_train, y_train)"
   ]
  },
  {
   "cell_type": "code",
   "execution_count": 24,
   "metadata": {},
   "outputs": [
    {
     "data": {
      "text/plain": [
       "12"
      ]
     },
     "execution_count": 24,
     "metadata": {},
     "output_type": "execute_result"
    }
   ],
   "source": [
    "sfs_lr.n_features_to_select_"
   ]
  },
  {
   "cell_type": "code",
   "execution_count": 25,
   "metadata": {},
   "outputs": [
    {
     "data": {
      "text/plain": [
       "array([False,  True,  True, False,  True, False,  True, False,  True,\n",
       "       False, False,  True,  True, False, False, False,  True,  True,\n",
       "        True, False,  True, False, False,  True])"
      ]
     },
     "execution_count": 25,
     "metadata": {},
     "output_type": "execute_result"
    }
   ],
   "source": [
    "sfs_lr.support_"
   ]
  },
  {
   "cell_type": "markdown",
   "metadata": {},
   "source": [
    "##### Adaboost"
   ]
  },
  {
   "cell_type": "code",
   "execution_count": 26,
   "metadata": {},
   "outputs": [
    {
     "data": {
      "text/html": [
       "<style>#sk-container-id-3 {color: black;background-color: white;}#sk-container-id-3 pre{padding: 0;}#sk-container-id-3 div.sk-toggleable {background-color: white;}#sk-container-id-3 label.sk-toggleable__label {cursor: pointer;display: block;width: 100%;margin-bottom: 0;padding: 0.3em;box-sizing: border-box;text-align: center;}#sk-container-id-3 label.sk-toggleable__label-arrow:before {content: \"▸\";float: left;margin-right: 0.25em;color: #696969;}#sk-container-id-3 label.sk-toggleable__label-arrow:hover:before {color: black;}#sk-container-id-3 div.sk-estimator:hover label.sk-toggleable__label-arrow:before {color: black;}#sk-container-id-3 div.sk-toggleable__content {max-height: 0;max-width: 0;overflow: hidden;text-align: left;background-color: #f0f8ff;}#sk-container-id-3 div.sk-toggleable__content pre {margin: 0.2em;color: black;border-radius: 0.25em;background-color: #f0f8ff;}#sk-container-id-3 input.sk-toggleable__control:checked~div.sk-toggleable__content {max-height: 200px;max-width: 100%;overflow: auto;}#sk-container-id-3 input.sk-toggleable__control:checked~label.sk-toggleable__label-arrow:before {content: \"▾\";}#sk-container-id-3 div.sk-estimator input.sk-toggleable__control:checked~label.sk-toggleable__label {background-color: #d4ebff;}#sk-container-id-3 div.sk-label input.sk-toggleable__control:checked~label.sk-toggleable__label {background-color: #d4ebff;}#sk-container-id-3 input.sk-hidden--visually {border: 0;clip: rect(1px 1px 1px 1px);clip: rect(1px, 1px, 1px, 1px);height: 1px;margin: -1px;overflow: hidden;padding: 0;position: absolute;width: 1px;}#sk-container-id-3 div.sk-estimator {font-family: monospace;background-color: #f0f8ff;border: 1px dotted black;border-radius: 0.25em;box-sizing: border-box;margin-bottom: 0.5em;}#sk-container-id-3 div.sk-estimator:hover {background-color: #d4ebff;}#sk-container-id-3 div.sk-parallel-item::after {content: \"\";width: 100%;border-bottom: 1px solid gray;flex-grow: 1;}#sk-container-id-3 div.sk-label:hover label.sk-toggleable__label {background-color: #d4ebff;}#sk-container-id-3 div.sk-serial::before {content: \"\";position: absolute;border-left: 1px solid gray;box-sizing: border-box;top: 0;bottom: 0;left: 50%;z-index: 0;}#sk-container-id-3 div.sk-serial {display: flex;flex-direction: column;align-items: center;background-color: white;padding-right: 0.2em;padding-left: 0.2em;position: relative;}#sk-container-id-3 div.sk-item {position: relative;z-index: 1;}#sk-container-id-3 div.sk-parallel {display: flex;align-items: stretch;justify-content: center;background-color: white;position: relative;}#sk-container-id-3 div.sk-item::before, #sk-container-id-3 div.sk-parallel-item::before {content: \"\";position: absolute;border-left: 1px solid gray;box-sizing: border-box;top: 0;bottom: 0;left: 50%;z-index: -1;}#sk-container-id-3 div.sk-parallel-item {display: flex;flex-direction: column;z-index: 1;position: relative;background-color: white;}#sk-container-id-3 div.sk-parallel-item:first-child::after {align-self: flex-end;width: 50%;}#sk-container-id-3 div.sk-parallel-item:last-child::after {align-self: flex-start;width: 50%;}#sk-container-id-3 div.sk-parallel-item:only-child::after {width: 0;}#sk-container-id-3 div.sk-dashed-wrapped {border: 1px dashed gray;margin: 0 0.4em 0.5em 0.4em;box-sizing: border-box;padding-bottom: 0.4em;background-color: white;}#sk-container-id-3 div.sk-label label {font-family: monospace;font-weight: bold;display: inline-block;line-height: 1.2em;}#sk-container-id-3 div.sk-label-container {text-align: center;}#sk-container-id-3 div.sk-container {/* jupyter's `normalize.less` sets `[hidden] { display: none; }` but bootstrap.min.css set `[hidden] { display: none !important; }` so we also need the `!important` here to be able to override the default hidden behavior on the sphinx rendered scikit-learn.org. See: https://github.com/scikit-learn/scikit-learn/issues/21755 */display: inline-block !important;position: relative;}#sk-container-id-3 div.sk-text-repr-fallback {display: none;}</style><div id=\"sk-container-id-3\" class=\"sk-top-container\"><div class=\"sk-text-repr-fallback\"><pre>SequentialFeatureSelector(cv=10, estimator=AdaBoostClassifier(),\n",
       "                          n_features_to_select=&#x27;auto&#x27;, scoring=&#x27;accuracy&#x27;)</pre><b>In a Jupyter environment, please rerun this cell to show the HTML representation or trust the notebook. <br />On GitHub, the HTML representation is unable to render, please try loading this page with nbviewer.org.</b></div><div class=\"sk-container\" hidden><div class=\"sk-item sk-dashed-wrapped\"><div class=\"sk-label-container\"><div class=\"sk-label sk-toggleable\"><input class=\"sk-toggleable__control sk-hidden--visually\" id=\"sk-estimator-id-7\" type=\"checkbox\" ><label for=\"sk-estimator-id-7\" class=\"sk-toggleable__label sk-toggleable__label-arrow\">SequentialFeatureSelector</label><div class=\"sk-toggleable__content\"><pre>SequentialFeatureSelector(cv=10, estimator=AdaBoostClassifier(),\n",
       "                          n_features_to_select=&#x27;auto&#x27;, scoring=&#x27;accuracy&#x27;)</pre></div></div></div><div class=\"sk-parallel\"><div class=\"sk-parallel-item\"><div class=\"sk-item\"><div class=\"sk-label-container\"><div class=\"sk-label sk-toggleable\"><input class=\"sk-toggleable__control sk-hidden--visually\" id=\"sk-estimator-id-8\" type=\"checkbox\" ><label for=\"sk-estimator-id-8\" class=\"sk-toggleable__label sk-toggleable__label-arrow\">estimator: AdaBoostClassifier</label><div class=\"sk-toggleable__content\"><pre>AdaBoostClassifier()</pre></div></div></div><div class=\"sk-serial\"><div class=\"sk-item\"><div class=\"sk-estimator sk-toggleable\"><input class=\"sk-toggleable__control sk-hidden--visually\" id=\"sk-estimator-id-9\" type=\"checkbox\" ><label for=\"sk-estimator-id-9\" class=\"sk-toggleable__label sk-toggleable__label-arrow\">AdaBoostClassifier</label><div class=\"sk-toggleable__content\"><pre>AdaBoostClassifier()</pre></div></div></div></div></div></div></div></div></div></div>"
      ],
      "text/plain": [
       "SequentialFeatureSelector(cv=10, estimator=AdaBoostClassifier(),\n",
       "                          n_features_to_select='auto', scoring='accuracy')"
      ]
     },
     "execution_count": 26,
     "metadata": {},
     "output_type": "execute_result"
    }
   ],
   "source": [
    "from sklearn.ensemble import AdaBoostClassifier\n",
    "from sklearn.feature_selection import SequentialFeatureSelector\n",
    "sfs_adb = SequentialFeatureSelector(estimator = AdaBoostClassifier(), n_features_to_select=\"auto\", direction=\"forward\", \n",
    "                                scoring= \"accuracy\", cv=10)\n",
    "sfs_adb.fit(X_train, y_train)"
   ]
  },
  {
   "cell_type": "code",
   "execution_count": 27,
   "metadata": {},
   "outputs": [
    {
     "data": {
      "text/plain": [
       "12"
      ]
     },
     "execution_count": 27,
     "metadata": {},
     "output_type": "execute_result"
    }
   ],
   "source": [
    "sfs_adb.n_features_to_select_"
   ]
  },
  {
   "cell_type": "code",
   "execution_count": 28,
   "metadata": {},
   "outputs": [
    {
     "data": {
      "text/plain": [
       "array([ True,  True, False,  True,  True,  True,  True, False,  True,\n",
       "       False,  True, False, False,  True, False, False,  True, False,\n",
       "       False,  True, False, False,  True, False])"
      ]
     },
     "execution_count": 28,
     "metadata": {},
     "output_type": "execute_result"
    }
   ],
   "source": [
    "sfs_adb.support_"
   ]
  },
  {
   "cell_type": "markdown",
   "metadata": {},
   "source": [
    "#### Backward"
   ]
  },
  {
   "cell_type": "markdown",
   "metadata": {},
   "source": [
    "##### Random Forest"
   ]
  },
  {
   "cell_type": "code",
   "execution_count": 29,
   "metadata": {},
   "outputs": [
    {
     "data": {
      "text/html": [
       "<style>#sk-container-id-4 {color: black;background-color: white;}#sk-container-id-4 pre{padding: 0;}#sk-container-id-4 div.sk-toggleable {background-color: white;}#sk-container-id-4 label.sk-toggleable__label {cursor: pointer;display: block;width: 100%;margin-bottom: 0;padding: 0.3em;box-sizing: border-box;text-align: center;}#sk-container-id-4 label.sk-toggleable__label-arrow:before {content: \"▸\";float: left;margin-right: 0.25em;color: #696969;}#sk-container-id-4 label.sk-toggleable__label-arrow:hover:before {color: black;}#sk-container-id-4 div.sk-estimator:hover label.sk-toggleable__label-arrow:before {color: black;}#sk-container-id-4 div.sk-toggleable__content {max-height: 0;max-width: 0;overflow: hidden;text-align: left;background-color: #f0f8ff;}#sk-container-id-4 div.sk-toggleable__content pre {margin: 0.2em;color: black;border-radius: 0.25em;background-color: #f0f8ff;}#sk-container-id-4 input.sk-toggleable__control:checked~div.sk-toggleable__content {max-height: 200px;max-width: 100%;overflow: auto;}#sk-container-id-4 input.sk-toggleable__control:checked~label.sk-toggleable__label-arrow:before {content: \"▾\";}#sk-container-id-4 div.sk-estimator input.sk-toggleable__control:checked~label.sk-toggleable__label {background-color: #d4ebff;}#sk-container-id-4 div.sk-label input.sk-toggleable__control:checked~label.sk-toggleable__label {background-color: #d4ebff;}#sk-container-id-4 input.sk-hidden--visually {border: 0;clip: rect(1px 1px 1px 1px);clip: rect(1px, 1px, 1px, 1px);height: 1px;margin: -1px;overflow: hidden;padding: 0;position: absolute;width: 1px;}#sk-container-id-4 div.sk-estimator {font-family: monospace;background-color: #f0f8ff;border: 1px dotted black;border-radius: 0.25em;box-sizing: border-box;margin-bottom: 0.5em;}#sk-container-id-4 div.sk-estimator:hover {background-color: #d4ebff;}#sk-container-id-4 div.sk-parallel-item::after {content: \"\";width: 100%;border-bottom: 1px solid gray;flex-grow: 1;}#sk-container-id-4 div.sk-label:hover label.sk-toggleable__label {background-color: #d4ebff;}#sk-container-id-4 div.sk-serial::before {content: \"\";position: absolute;border-left: 1px solid gray;box-sizing: border-box;top: 0;bottom: 0;left: 50%;z-index: 0;}#sk-container-id-4 div.sk-serial {display: flex;flex-direction: column;align-items: center;background-color: white;padding-right: 0.2em;padding-left: 0.2em;position: relative;}#sk-container-id-4 div.sk-item {position: relative;z-index: 1;}#sk-container-id-4 div.sk-parallel {display: flex;align-items: stretch;justify-content: center;background-color: white;position: relative;}#sk-container-id-4 div.sk-item::before, #sk-container-id-4 div.sk-parallel-item::before {content: \"\";position: absolute;border-left: 1px solid gray;box-sizing: border-box;top: 0;bottom: 0;left: 50%;z-index: -1;}#sk-container-id-4 div.sk-parallel-item {display: flex;flex-direction: column;z-index: 1;position: relative;background-color: white;}#sk-container-id-4 div.sk-parallel-item:first-child::after {align-self: flex-end;width: 50%;}#sk-container-id-4 div.sk-parallel-item:last-child::after {align-self: flex-start;width: 50%;}#sk-container-id-4 div.sk-parallel-item:only-child::after {width: 0;}#sk-container-id-4 div.sk-dashed-wrapped {border: 1px dashed gray;margin: 0 0.4em 0.5em 0.4em;box-sizing: border-box;padding-bottom: 0.4em;background-color: white;}#sk-container-id-4 div.sk-label label {font-family: monospace;font-weight: bold;display: inline-block;line-height: 1.2em;}#sk-container-id-4 div.sk-label-container {text-align: center;}#sk-container-id-4 div.sk-container {/* jupyter's `normalize.less` sets `[hidden] { display: none; }` but bootstrap.min.css set `[hidden] { display: none !important; }` so we also need the `!important` here to be able to override the default hidden behavior on the sphinx rendered scikit-learn.org. See: https://github.com/scikit-learn/scikit-learn/issues/21755 */display: inline-block !important;position: relative;}#sk-container-id-4 div.sk-text-repr-fallback {display: none;}</style><div id=\"sk-container-id-4\" class=\"sk-top-container\"><div class=\"sk-text-repr-fallback\"><pre>SequentialFeatureSelector(cv=10, direction=&#x27;backward&#x27;,\n",
       "                          estimator=RandomForestClassifier(),\n",
       "                          n_features_to_select=&#x27;auto&#x27;, scoring=&#x27;accuracy&#x27;)</pre><b>In a Jupyter environment, please rerun this cell to show the HTML representation or trust the notebook. <br />On GitHub, the HTML representation is unable to render, please try loading this page with nbviewer.org.</b></div><div class=\"sk-container\" hidden><div class=\"sk-item sk-dashed-wrapped\"><div class=\"sk-label-container\"><div class=\"sk-label sk-toggleable\"><input class=\"sk-toggleable__control sk-hidden--visually\" id=\"sk-estimator-id-10\" type=\"checkbox\" ><label for=\"sk-estimator-id-10\" class=\"sk-toggleable__label sk-toggleable__label-arrow\">SequentialFeatureSelector</label><div class=\"sk-toggleable__content\"><pre>SequentialFeatureSelector(cv=10, direction=&#x27;backward&#x27;,\n",
       "                          estimator=RandomForestClassifier(),\n",
       "                          n_features_to_select=&#x27;auto&#x27;, scoring=&#x27;accuracy&#x27;)</pre></div></div></div><div class=\"sk-parallel\"><div class=\"sk-parallel-item\"><div class=\"sk-item\"><div class=\"sk-label-container\"><div class=\"sk-label sk-toggleable\"><input class=\"sk-toggleable__control sk-hidden--visually\" id=\"sk-estimator-id-11\" type=\"checkbox\" ><label for=\"sk-estimator-id-11\" class=\"sk-toggleable__label sk-toggleable__label-arrow\">estimator: RandomForestClassifier</label><div class=\"sk-toggleable__content\"><pre>RandomForestClassifier()</pre></div></div></div><div class=\"sk-serial\"><div class=\"sk-item\"><div class=\"sk-estimator sk-toggleable\"><input class=\"sk-toggleable__control sk-hidden--visually\" id=\"sk-estimator-id-12\" type=\"checkbox\" ><label for=\"sk-estimator-id-12\" class=\"sk-toggleable__label sk-toggleable__label-arrow\">RandomForestClassifier</label><div class=\"sk-toggleable__content\"><pre>RandomForestClassifier()</pre></div></div></div></div></div></div></div></div></div></div>"
      ],
      "text/plain": [
       "SequentialFeatureSelector(cv=10, direction='backward',\n",
       "                          estimator=RandomForestClassifier(),\n",
       "                          n_features_to_select='auto', scoring='accuracy')"
      ]
     },
     "execution_count": 29,
     "metadata": {},
     "output_type": "execute_result"
    }
   ],
   "source": [
    "from sklearn.feature_selection import SequentialFeatureSelector\n",
    "sfs1 = SequentialFeatureSelector(estimator = RandomForestClassifier(), n_features_to_select=\"auto\", direction=\"backward\", \n",
    "                                scoring= \"accuracy\", cv=10)\n",
    "sfs1.fit(X_train, y_train)"
   ]
  },
  {
   "cell_type": "code",
   "execution_count": 30,
   "metadata": {},
   "outputs": [
    {
     "data": {
      "text/plain": [
       "12"
      ]
     },
     "execution_count": 30,
     "metadata": {},
     "output_type": "execute_result"
    }
   ],
   "source": [
    "sfs1.n_features_to_select_"
   ]
  },
  {
   "cell_type": "code",
   "execution_count": 31,
   "metadata": {},
   "outputs": [
    {
     "data": {
      "text/plain": [
       "array([False,  True,  True,  True,  True,  True,  True, False, False,\n",
       "       False, False,  True, False, False,  True, False,  True, False,\n",
       "        True,  True, False, False,  True, False])"
      ]
     },
     "execution_count": 31,
     "metadata": {},
     "output_type": "execute_result"
    }
   ],
   "source": [
    "sfs.support_"
   ]
  },
  {
   "cell_type": "code",
   "execution_count": 32,
   "metadata": {},
   "outputs": [
    {
     "data": {
      "text/plain": [
       "<bound method BaseEstimator.get_params of SequentialFeatureSelector(cv=10, estimator=RandomForestClassifier(),\n",
       "                          n_features_to_select='auto', scoring='accuracy')>"
      ]
     },
     "execution_count": 32,
     "metadata": {},
     "output_type": "execute_result"
    }
   ],
   "source": [
    "sfs.get_params"
   ]
  },
  {
   "cell_type": "markdown",
   "metadata": {},
   "source": [
    "##### Logistic Regression"
   ]
  },
  {
   "cell_type": "code",
   "execution_count": 33,
   "metadata": {},
   "outputs": [
    {
     "data": {
      "text/html": [
       "<style>#sk-container-id-5 {color: black;background-color: white;}#sk-container-id-5 pre{padding: 0;}#sk-container-id-5 div.sk-toggleable {background-color: white;}#sk-container-id-5 label.sk-toggleable__label {cursor: pointer;display: block;width: 100%;margin-bottom: 0;padding: 0.3em;box-sizing: border-box;text-align: center;}#sk-container-id-5 label.sk-toggleable__label-arrow:before {content: \"▸\";float: left;margin-right: 0.25em;color: #696969;}#sk-container-id-5 label.sk-toggleable__label-arrow:hover:before {color: black;}#sk-container-id-5 div.sk-estimator:hover label.sk-toggleable__label-arrow:before {color: black;}#sk-container-id-5 div.sk-toggleable__content {max-height: 0;max-width: 0;overflow: hidden;text-align: left;background-color: #f0f8ff;}#sk-container-id-5 div.sk-toggleable__content pre {margin: 0.2em;color: black;border-radius: 0.25em;background-color: #f0f8ff;}#sk-container-id-5 input.sk-toggleable__control:checked~div.sk-toggleable__content {max-height: 200px;max-width: 100%;overflow: auto;}#sk-container-id-5 input.sk-toggleable__control:checked~label.sk-toggleable__label-arrow:before {content: \"▾\";}#sk-container-id-5 div.sk-estimator input.sk-toggleable__control:checked~label.sk-toggleable__label {background-color: #d4ebff;}#sk-container-id-5 div.sk-label input.sk-toggleable__control:checked~label.sk-toggleable__label {background-color: #d4ebff;}#sk-container-id-5 input.sk-hidden--visually {border: 0;clip: rect(1px 1px 1px 1px);clip: rect(1px, 1px, 1px, 1px);height: 1px;margin: -1px;overflow: hidden;padding: 0;position: absolute;width: 1px;}#sk-container-id-5 div.sk-estimator {font-family: monospace;background-color: #f0f8ff;border: 1px dotted black;border-radius: 0.25em;box-sizing: border-box;margin-bottom: 0.5em;}#sk-container-id-5 div.sk-estimator:hover {background-color: #d4ebff;}#sk-container-id-5 div.sk-parallel-item::after {content: \"\";width: 100%;border-bottom: 1px solid gray;flex-grow: 1;}#sk-container-id-5 div.sk-label:hover label.sk-toggleable__label {background-color: #d4ebff;}#sk-container-id-5 div.sk-serial::before {content: \"\";position: absolute;border-left: 1px solid gray;box-sizing: border-box;top: 0;bottom: 0;left: 50%;z-index: 0;}#sk-container-id-5 div.sk-serial {display: flex;flex-direction: column;align-items: center;background-color: white;padding-right: 0.2em;padding-left: 0.2em;position: relative;}#sk-container-id-5 div.sk-item {position: relative;z-index: 1;}#sk-container-id-5 div.sk-parallel {display: flex;align-items: stretch;justify-content: center;background-color: white;position: relative;}#sk-container-id-5 div.sk-item::before, #sk-container-id-5 div.sk-parallel-item::before {content: \"\";position: absolute;border-left: 1px solid gray;box-sizing: border-box;top: 0;bottom: 0;left: 50%;z-index: -1;}#sk-container-id-5 div.sk-parallel-item {display: flex;flex-direction: column;z-index: 1;position: relative;background-color: white;}#sk-container-id-5 div.sk-parallel-item:first-child::after {align-self: flex-end;width: 50%;}#sk-container-id-5 div.sk-parallel-item:last-child::after {align-self: flex-start;width: 50%;}#sk-container-id-5 div.sk-parallel-item:only-child::after {width: 0;}#sk-container-id-5 div.sk-dashed-wrapped {border: 1px dashed gray;margin: 0 0.4em 0.5em 0.4em;box-sizing: border-box;padding-bottom: 0.4em;background-color: white;}#sk-container-id-5 div.sk-label label {font-family: monospace;font-weight: bold;display: inline-block;line-height: 1.2em;}#sk-container-id-5 div.sk-label-container {text-align: center;}#sk-container-id-5 div.sk-container {/* jupyter's `normalize.less` sets `[hidden] { display: none; }` but bootstrap.min.css set `[hidden] { display: none !important; }` so we also need the `!important` here to be able to override the default hidden behavior on the sphinx rendered scikit-learn.org. See: https://github.com/scikit-learn/scikit-learn/issues/21755 */display: inline-block !important;position: relative;}#sk-container-id-5 div.sk-text-repr-fallback {display: none;}</style><div id=\"sk-container-id-5\" class=\"sk-top-container\"><div class=\"sk-text-repr-fallback\"><pre>SequentialFeatureSelector(cv=10, direction=&#x27;backward&#x27;,\n",
       "                          estimator=LogisticRegression(),\n",
       "                          n_features_to_select=&#x27;auto&#x27;, scoring=&#x27;accuracy&#x27;)</pre><b>In a Jupyter environment, please rerun this cell to show the HTML representation or trust the notebook. <br />On GitHub, the HTML representation is unable to render, please try loading this page with nbviewer.org.</b></div><div class=\"sk-container\" hidden><div class=\"sk-item sk-dashed-wrapped\"><div class=\"sk-label-container\"><div class=\"sk-label sk-toggleable\"><input class=\"sk-toggleable__control sk-hidden--visually\" id=\"sk-estimator-id-13\" type=\"checkbox\" ><label for=\"sk-estimator-id-13\" class=\"sk-toggleable__label sk-toggleable__label-arrow\">SequentialFeatureSelector</label><div class=\"sk-toggleable__content\"><pre>SequentialFeatureSelector(cv=10, direction=&#x27;backward&#x27;,\n",
       "                          estimator=LogisticRegression(),\n",
       "                          n_features_to_select=&#x27;auto&#x27;, scoring=&#x27;accuracy&#x27;)</pre></div></div></div><div class=\"sk-parallel\"><div class=\"sk-parallel-item\"><div class=\"sk-item\"><div class=\"sk-label-container\"><div class=\"sk-label sk-toggleable\"><input class=\"sk-toggleable__control sk-hidden--visually\" id=\"sk-estimator-id-14\" type=\"checkbox\" ><label for=\"sk-estimator-id-14\" class=\"sk-toggleable__label sk-toggleable__label-arrow\">estimator: LogisticRegression</label><div class=\"sk-toggleable__content\"><pre>LogisticRegression()</pre></div></div></div><div class=\"sk-serial\"><div class=\"sk-item\"><div class=\"sk-estimator sk-toggleable\"><input class=\"sk-toggleable__control sk-hidden--visually\" id=\"sk-estimator-id-15\" type=\"checkbox\" ><label for=\"sk-estimator-id-15\" class=\"sk-toggleable__label sk-toggleable__label-arrow\">LogisticRegression</label><div class=\"sk-toggleable__content\"><pre>LogisticRegression()</pre></div></div></div></div></div></div></div></div></div></div>"
      ],
      "text/plain": [
       "SequentialFeatureSelector(cv=10, direction='backward',\n",
       "                          estimator=LogisticRegression(),\n",
       "                          n_features_to_select='auto', scoring='accuracy')"
      ]
     },
     "execution_count": 33,
     "metadata": {},
     "output_type": "execute_result"
    }
   ],
   "source": [
    "from sklearn.linear_model import LogisticRegression\n",
    "from sklearn.feature_selection import SequentialFeatureSelector\n",
    "sfs_lr1 = SequentialFeatureSelector(estimator = LogisticRegression(), n_features_to_select=\"auto\", direction=\"backward\", \n",
    "                                scoring= \"accuracy\", cv=10)\n",
    "sfs_lr1.fit(X_train, y_train)"
   ]
  },
  {
   "cell_type": "code",
   "execution_count": 34,
   "metadata": {},
   "outputs": [
    {
     "data": {
      "text/plain": [
       "12"
      ]
     },
     "execution_count": 34,
     "metadata": {},
     "output_type": "execute_result"
    }
   ],
   "source": [
    "sfs_lr1.n_features_to_select_"
   ]
  },
  {
   "cell_type": "code",
   "execution_count": 35,
   "metadata": {},
   "outputs": [
    {
     "data": {
      "text/plain": [
       "array([ True,  True,  True, False,  True,  True, False, False,  True,\n",
       "       False,  True, False,  True, False,  True, False,  True, False,\n",
       "       False,  True, False,  True, False, False])"
      ]
     },
     "execution_count": 35,
     "metadata": {},
     "output_type": "execute_result"
    }
   ],
   "source": [
    "sfs_lr1.support_"
   ]
  },
  {
   "cell_type": "markdown",
   "metadata": {},
   "source": [
    "##### Adaboost"
   ]
  },
  {
   "cell_type": "code",
   "execution_count": 36,
   "metadata": {},
   "outputs": [
    {
     "data": {
      "text/html": [
       "<style>#sk-container-id-6 {color: black;background-color: white;}#sk-container-id-6 pre{padding: 0;}#sk-container-id-6 div.sk-toggleable {background-color: white;}#sk-container-id-6 label.sk-toggleable__label {cursor: pointer;display: block;width: 100%;margin-bottom: 0;padding: 0.3em;box-sizing: border-box;text-align: center;}#sk-container-id-6 label.sk-toggleable__label-arrow:before {content: \"▸\";float: left;margin-right: 0.25em;color: #696969;}#sk-container-id-6 label.sk-toggleable__label-arrow:hover:before {color: black;}#sk-container-id-6 div.sk-estimator:hover label.sk-toggleable__label-arrow:before {color: black;}#sk-container-id-6 div.sk-toggleable__content {max-height: 0;max-width: 0;overflow: hidden;text-align: left;background-color: #f0f8ff;}#sk-container-id-6 div.sk-toggleable__content pre {margin: 0.2em;color: black;border-radius: 0.25em;background-color: #f0f8ff;}#sk-container-id-6 input.sk-toggleable__control:checked~div.sk-toggleable__content {max-height: 200px;max-width: 100%;overflow: auto;}#sk-container-id-6 input.sk-toggleable__control:checked~label.sk-toggleable__label-arrow:before {content: \"▾\";}#sk-container-id-6 div.sk-estimator input.sk-toggleable__control:checked~label.sk-toggleable__label {background-color: #d4ebff;}#sk-container-id-6 div.sk-label input.sk-toggleable__control:checked~label.sk-toggleable__label {background-color: #d4ebff;}#sk-container-id-6 input.sk-hidden--visually {border: 0;clip: rect(1px 1px 1px 1px);clip: rect(1px, 1px, 1px, 1px);height: 1px;margin: -1px;overflow: hidden;padding: 0;position: absolute;width: 1px;}#sk-container-id-6 div.sk-estimator {font-family: monospace;background-color: #f0f8ff;border: 1px dotted black;border-radius: 0.25em;box-sizing: border-box;margin-bottom: 0.5em;}#sk-container-id-6 div.sk-estimator:hover {background-color: #d4ebff;}#sk-container-id-6 div.sk-parallel-item::after {content: \"\";width: 100%;border-bottom: 1px solid gray;flex-grow: 1;}#sk-container-id-6 div.sk-label:hover label.sk-toggleable__label {background-color: #d4ebff;}#sk-container-id-6 div.sk-serial::before {content: \"\";position: absolute;border-left: 1px solid gray;box-sizing: border-box;top: 0;bottom: 0;left: 50%;z-index: 0;}#sk-container-id-6 div.sk-serial {display: flex;flex-direction: column;align-items: center;background-color: white;padding-right: 0.2em;padding-left: 0.2em;position: relative;}#sk-container-id-6 div.sk-item {position: relative;z-index: 1;}#sk-container-id-6 div.sk-parallel {display: flex;align-items: stretch;justify-content: center;background-color: white;position: relative;}#sk-container-id-6 div.sk-item::before, #sk-container-id-6 div.sk-parallel-item::before {content: \"\";position: absolute;border-left: 1px solid gray;box-sizing: border-box;top: 0;bottom: 0;left: 50%;z-index: -1;}#sk-container-id-6 div.sk-parallel-item {display: flex;flex-direction: column;z-index: 1;position: relative;background-color: white;}#sk-container-id-6 div.sk-parallel-item:first-child::after {align-self: flex-end;width: 50%;}#sk-container-id-6 div.sk-parallel-item:last-child::after {align-self: flex-start;width: 50%;}#sk-container-id-6 div.sk-parallel-item:only-child::after {width: 0;}#sk-container-id-6 div.sk-dashed-wrapped {border: 1px dashed gray;margin: 0 0.4em 0.5em 0.4em;box-sizing: border-box;padding-bottom: 0.4em;background-color: white;}#sk-container-id-6 div.sk-label label {font-family: monospace;font-weight: bold;display: inline-block;line-height: 1.2em;}#sk-container-id-6 div.sk-label-container {text-align: center;}#sk-container-id-6 div.sk-container {/* jupyter's `normalize.less` sets `[hidden] { display: none; }` but bootstrap.min.css set `[hidden] { display: none !important; }` so we also need the `!important` here to be able to override the default hidden behavior on the sphinx rendered scikit-learn.org. See: https://github.com/scikit-learn/scikit-learn/issues/21755 */display: inline-block !important;position: relative;}#sk-container-id-6 div.sk-text-repr-fallback {display: none;}</style><div id=\"sk-container-id-6\" class=\"sk-top-container\"><div class=\"sk-text-repr-fallback\"><pre>SequentialFeatureSelector(cv=10, direction=&#x27;backward&#x27;,\n",
       "                          estimator=AdaBoostClassifier(),\n",
       "                          n_features_to_select=&#x27;auto&#x27;, scoring=&#x27;accuracy&#x27;)</pre><b>In a Jupyter environment, please rerun this cell to show the HTML representation or trust the notebook. <br />On GitHub, the HTML representation is unable to render, please try loading this page with nbviewer.org.</b></div><div class=\"sk-container\" hidden><div class=\"sk-item sk-dashed-wrapped\"><div class=\"sk-label-container\"><div class=\"sk-label sk-toggleable\"><input class=\"sk-toggleable__control sk-hidden--visually\" id=\"sk-estimator-id-16\" type=\"checkbox\" ><label for=\"sk-estimator-id-16\" class=\"sk-toggleable__label sk-toggleable__label-arrow\">SequentialFeatureSelector</label><div class=\"sk-toggleable__content\"><pre>SequentialFeatureSelector(cv=10, direction=&#x27;backward&#x27;,\n",
       "                          estimator=AdaBoostClassifier(),\n",
       "                          n_features_to_select=&#x27;auto&#x27;, scoring=&#x27;accuracy&#x27;)</pre></div></div></div><div class=\"sk-parallel\"><div class=\"sk-parallel-item\"><div class=\"sk-item\"><div class=\"sk-label-container\"><div class=\"sk-label sk-toggleable\"><input class=\"sk-toggleable__control sk-hidden--visually\" id=\"sk-estimator-id-17\" type=\"checkbox\" ><label for=\"sk-estimator-id-17\" class=\"sk-toggleable__label sk-toggleable__label-arrow\">estimator: AdaBoostClassifier</label><div class=\"sk-toggleable__content\"><pre>AdaBoostClassifier()</pre></div></div></div><div class=\"sk-serial\"><div class=\"sk-item\"><div class=\"sk-estimator sk-toggleable\"><input class=\"sk-toggleable__control sk-hidden--visually\" id=\"sk-estimator-id-18\" type=\"checkbox\" ><label for=\"sk-estimator-id-18\" class=\"sk-toggleable__label sk-toggleable__label-arrow\">AdaBoostClassifier</label><div class=\"sk-toggleable__content\"><pre>AdaBoostClassifier()</pre></div></div></div></div></div></div></div></div></div></div>"
      ],
      "text/plain": [
       "SequentialFeatureSelector(cv=10, direction='backward',\n",
       "                          estimator=AdaBoostClassifier(),\n",
       "                          n_features_to_select='auto', scoring='accuracy')"
      ]
     },
     "execution_count": 36,
     "metadata": {},
     "output_type": "execute_result"
    }
   ],
   "source": [
    "from sklearn.ensemble import AdaBoostClassifier\n",
    "from sklearn.feature_selection import SequentialFeatureSelector\n",
    "sfs_adb1 = SequentialFeatureSelector(estimator = AdaBoostClassifier(), n_features_to_select=\"auto\", direction=\"backward\", \n",
    "                                scoring= \"accuracy\", cv=10)\n",
    "sfs_adb1.fit(X_train, y_train)"
   ]
  },
  {
   "cell_type": "code",
   "execution_count": 37,
   "metadata": {},
   "outputs": [
    {
     "data": {
      "text/plain": [
       "12"
      ]
     },
     "execution_count": 37,
     "metadata": {},
     "output_type": "execute_result"
    }
   ],
   "source": [
    "sfs_adb1.n_features_to_select_"
   ]
  },
  {
   "cell_type": "code",
   "execution_count": 38,
   "metadata": {},
   "outputs": [
    {
     "data": {
      "text/plain": [
       "array([ True, False,  True,  True,  True,  True,  True,  True, False,\n",
       "        True, False, False, False, False,  True, False,  True, False,\n",
       "       False,  True, False, False,  True, False])"
      ]
     },
     "execution_count": 38,
     "metadata": {},
     "output_type": "execute_result"
    }
   ],
   "source": [
    "sfs_adb1.support_"
   ]
  },
  {
   "cell_type": "markdown",
   "metadata": {},
   "source": [
    "## Feature Selection - Part 2, RFE"
   ]
  },
  {
   "cell_type": "markdown",
   "metadata": {},
   "source": [
    "##### Logiistic Regression"
   ]
  },
  {
   "cell_type": "code",
   "execution_count": 39,
   "metadata": {},
   "outputs": [
    {
     "name": "stdout",
     "output_type": "stream",
     "text": [
      "Optimal number of features: 21\n",
      "Column: 0, Selected True, Rank: 1.000\n",
      "Column: 1, Selected True, Rank: 1.000\n",
      "Column: 2, Selected True, Rank: 1.000\n",
      "Column: 3, Selected True, Rank: 1.000\n",
      "Column: 4, Selected True, Rank: 1.000\n",
      "Column: 5, Selected True, Rank: 1.000\n",
      "Column: 6, Selected True, Rank: 1.000\n",
      "Column: 7, Selected False, Rank: 3.000\n",
      "Column: 8, Selected True, Rank: 1.000\n",
      "Column: 9, Selected True, Rank: 1.000\n",
      "Column: 10, Selected True, Rank: 1.000\n",
      "Column: 11, Selected True, Rank: 1.000\n",
      "Column: 12, Selected False, Rank: 2.000\n",
      "Column: 13, Selected True, Rank: 1.000\n",
      "Column: 14, Selected True, Rank: 1.000\n",
      "Column: 15, Selected True, Rank: 1.000\n",
      "Column: 16, Selected True, Rank: 1.000\n",
      "Column: 17, Selected True, Rank: 1.000\n",
      "Column: 18, Selected True, Rank: 1.000\n",
      "Column: 19, Selected True, Rank: 1.000\n",
      "Column: 20, Selected True, Rank: 1.000\n",
      "Column: 21, Selected True, Rank: 1.000\n",
      "Column: 22, Selected False, Rank: 4.000\n",
      "Column: 23, Selected True, Rank: 1.000\n"
     ]
    }
   ],
   "source": [
    "from sklearn.feature_selection import RFECV\n",
    "from sklearn.linear_model import LogisticRegression\n",
    "from sklearn.model_selection import StratifiedKFold, KFold\n",
    "\n",
    "min_features_to_select = 5  # Minimum number of features to consider\n",
    "clf = LogisticRegression()\n",
    "cv = StratifiedKFold(10)\n",
    "\n",
    "rfecv = RFECV(estimator=clf,\n",
    "    step=1,\n",
    "    cv=cv,\n",
    "    scoring=\"accuracy\",\n",
    "    min_features_to_select=min_features_to_select,\n",
    "    n_jobs=2)\n",
    "\n",
    "rfecv.fit(X_train, y_train)\n",
    "\n",
    "print(f\"Optimal number of features: {rfecv.n_features_}\")\n",
    "\n",
    "for i in range(X.shape[1]):\n",
    "    print('Column: %d, Selected %s, Rank: %.3f' % (i, rfecv.support_[i], rfecv.ranking_[i]))"
   ]
  },
  {
   "cell_type": "markdown",
   "metadata": {},
   "source": [
    "##### Plotting Number of Features vs Cross-Validation Scores"
   ]
  },
  {
   "cell_type": "code",
   "execution_count": 40,
   "metadata": {},
   "outputs": [
    {
     "name": "stdout",
     "output_type": "stream",
     "text": [
      "[0.66944497 0.66847163 0.66166216 0.66835012 0.67023477 0.66993082\n",
      " 0.66993107 0.66853279 0.66999175 0.66999164 0.67053913 0.67084289\n",
      " 0.67066063 0.67059973 0.67126865 0.67175515 0.67224147 0.67224144\n",
      " 0.67218061 0.67193738]\n"
     ]
    }
   ],
   "source": [
    "print(rfecv.cv_results_[\"mean_test_score\"])"
   ]
  },
  {
   "cell_type": "code",
   "execution_count": 41,
   "metadata": {},
   "outputs": [
    {
     "data": {
      "image/png": "[encoded data removed]",
      "text/plain": [
       "<Figure size 640x480 with 1 Axes>"
      ]
     },
     "metadata": {},
     "output_type": "display_data"
    }
   ],
   "source": [
    "import matplotlib.pyplot as plt\n",
    "\n",
    "n_scores = len(rfecv.cv_results_[\"mean_test_score\"])\n",
    "plt.figure()\n",
    "plt.xlabel(\"Number of features selected\")\n",
    "plt.ylabel(\"Cross Validation Score\")\n",
    "plt.plot(range(min_features_to_select, n_scores + min_features_to_select),\n",
    "    rfecv.cv_results_[\"mean_test_score\"],)\n",
    "plt.title(\"Recursive Feature Elimination\")\n",
    "plt.show()\n"
   ]
  },
  {
   "cell_type": "markdown",
   "metadata": {},
   "source": [
    "##### Random Forest"
   ]
  },
  {
   "cell_type": "code",
   "execution_count": 42,
   "metadata": {},
   "outputs": [
    {
     "name": "stdout",
     "output_type": "stream",
     "text": [
      "Optimal number of features: 23\n",
      "Column: 0, Selected True, Rank: 1.000\n",
      "Column: 1, Selected True, Rank: 1.000\n",
      "Column: 2, Selected True, Rank: 1.000\n",
      "Column: 3, Selected True, Rank: 1.000\n",
      "Column: 4, Selected True, Rank: 1.000\n",
      "Column: 5, Selected True, Rank: 1.000\n",
      "Column: 6, Selected True, Rank: 1.000\n",
      "Column: 7, Selected True, Rank: 1.000\n",
      "Column: 8, Selected True, Rank: 1.000\n",
      "Column: 9, Selected True, Rank: 1.000\n",
      "Column: 10, Selected True, Rank: 1.000\n",
      "Column: 11, Selected True, Rank: 1.000\n",
      "Column: 12, Selected True, Rank: 1.000\n",
      "Column: 13, Selected True, Rank: 1.000\n",
      "Column: 14, Selected True, Rank: 1.000\n",
      "Column: 15, Selected True, Rank: 1.000\n",
      "Column: 16, Selected True, Rank: 1.000\n",
      "Column: 17, Selected True, Rank: 1.000\n",
      "Column: 18, Selected False, Rank: 2.000\n",
      "Column: 19, Selected True, Rank: 1.000\n",
      "Column: 20, Selected True, Rank: 1.000\n",
      "Column: 21, Selected True, Rank: 1.000\n",
      "Column: 22, Selected True, Rank: 1.000\n",
      "Column: 23, Selected True, Rank: 1.000\n"
     ]
    }
   ],
   "source": [
    "from sklearn.feature_selection import RFECV\n",
    "from sklearn.ensemble import RandomForestClassifier\n",
    "from sklearn.model_selection import KFold, StratifiedKFold\n",
    "\n",
    "min_features_to_select = 5  # Minimum number of features to consider\n",
    "rf = RandomForestClassifier()\n",
    "cv = StratifiedKFold(10)\n",
    "\n",
    "rfe_rfcv = RFECV(estimator=rf, step=1, cv=cv, scoring=\"accuracy\", min_features_to_select=min_features_to_select)\n",
    "rfe_rfcv.fit(X_train, y_train)\n",
    "\n",
    "print(f\"Optimal number of features: {rfe_rfcv.n_features_}\")\n",
    "\n",
    "for i in range(X.shape[1]):\n",
    "    print('Column: %d, Selected %s, Rank: %.3f' % (i, rfe_rfcv.support_[i], rfe_rfcv.ranking_[i]))"
   ]
  },
  {
   "cell_type": "code",
   "execution_count": 43,
   "metadata": {},
   "outputs": [
    {
     "name": "stdout",
     "output_type": "stream",
     "text": [
      "[0.79779805 0.80655285 0.80576206 0.81068607 0.81488134 0.82941199\n",
      " 0.83105281 0.83537029 0.83962657 0.8432136  0.84290965 0.84442963\n",
      " 0.84594909 0.85014454 0.84941506 0.85239364 0.85208976 0.85336687\n",
      " 0.85348812 0.85348797]\n"
     ]
    }
   ],
   "source": [
    "print(rfe_rfcv.cv_results_[\"mean_test_score\"])"
   ]
  },
  {
   "cell_type": "code",
   "execution_count": 44,
   "metadata": {},
   "outputs": [
    {
     "data": {
      "image/png": "[encoded data removed]",
      "text/plain": [
       "<Figure size 640x480 with 1 Axes>"
      ]
     },
     "metadata": {},
     "output_type": "display_data"
    }
   ],
   "source": [
    "import matplotlib.pyplot as plt\n",
    "\n",
    "n_scores = len(rfe_rfcv.cv_results_[\"mean_test_score\"])\n",
    "plt.figure()\n",
    "plt.xlabel(\"Number of features selected\")\n",
    "plt.ylabel(\"Cross Validation Score\")\n",
    "plt.plot(range(min_features_to_select, n_scores + min_features_to_select),\n",
    "    rfe_rfcv.cv_results_[\"mean_test_score\"])\n",
    "plt.title(\"Recursive Feature Elimination\")\n",
    "plt.show()"
   ]
  },
  {
   "cell_type": "markdown",
   "metadata": {},
   "source": [
    "##### XGBoost"
   ]
  },
  {
   "cell_type": "code",
   "execution_count": 45,
   "metadata": {
    "scrolled": true
   },
   "outputs": [
    {
     "name": "stdout",
     "output_type": "stream",
     "text": [
      "Optimal number of features: 21\n",
      "Column: 0, Selected True, Rank: 1.000\n",
      "Column: 1, Selected True, Rank: 1.000\n",
      "Column: 2, Selected True, Rank: 1.000\n",
      "Column: 3, Selected True, Rank: 1.000\n",
      "Column: 4, Selected True, Rank: 1.000\n",
      "Column: 5, Selected True, Rank: 1.000\n",
      "Column: 6, Selected True, Rank: 1.000\n",
      "Column: 7, Selected True, Rank: 1.000\n",
      "Column: 8, Selected True, Rank: 1.000\n",
      "Column: 9, Selected True, Rank: 1.000\n",
      "Column: 10, Selected False, Rank: 2.000\n",
      "Column: 11, Selected True, Rank: 1.000\n",
      "Column: 12, Selected True, Rank: 1.000\n",
      "Column: 13, Selected True, Rank: 1.000\n",
      "Column: 14, Selected True, Rank: 1.000\n",
      "Column: 15, Selected False, Rank: 3.000\n",
      "Column: 16, Selected True, Rank: 1.000\n",
      "Column: 17, Selected True, Rank: 1.000\n",
      "Column: 18, Selected True, Rank: 1.000\n",
      "Column: 19, Selected True, Rank: 1.000\n",
      "Column: 20, Selected False, Rank: 4.000\n",
      "Column: 21, Selected True, Rank: 1.000\n",
      "Column: 22, Selected True, Rank: 1.000\n",
      "Column: 23, Selected True, Rank: 1.000\n"
     ]
    }
   ],
   "source": [
    "from sklearn.feature_selection import RFECV\n",
    "from xgboost import XGBClassifier\n",
    "from sklearn.model_selection import KFold, StratifiedKFold\n",
    "\n",
    "min_features_to_select = 5  # Minimum number of features to consider\n",
    "xgb = XGBClassifier()\n",
    "cv = StratifiedKFold(10)\n",
    "\n",
    "rfe_xgbcv = RFECV(estimator=xgb, step=1, cv=cv, scoring=\"accuracy\", min_features_to_select=min_features_to_select)\n",
    "rfe_xgbcv.fit(X_train, y_train)\n",
    "\n",
    "print(f\"Optimal number of features: {rfe_xgbcv.n_features_}\")\n",
    "\n",
    "for i in range(X.shape[1]):\n",
    "    print('Column: %d, Selected %s, Rank: %.3f' % (i, rfe_xgbcv.support_[i], rfe_xgbcv.ranking_[i]))"
   ]
  },
  {
   "cell_type": "code",
   "execution_count": 46,
   "metadata": {},
   "outputs": [
    {
     "name": "stdout",
     "output_type": "stream",
     "text": [
      "[0.79037942 0.80296567 0.80831621 0.82071983 0.82582692 0.82819744\n",
      " 0.83002189 0.83768206 0.83865507 0.84266678 0.84376171 0.8440657\n",
      " 0.84388333 0.84382261 0.84485601 0.84546388 0.84747014 0.84643674\n",
      " 0.84558557 0.84728777]\n"
     ]
    }
   ],
   "source": [
    "print(rfe_xgbcv.cv_results_[\"mean_test_score\"])"
   ]
  },
  {
   "cell_type": "code",
   "execution_count": 47,
   "metadata": {
    "scrolled": true
   },
   "outputs": [
    {
     "data": {
      "image/png": "[encoded data removed]",
      "text/plain": [
       "<Figure size 640x480 with 1 Axes>"
      ]
     },
     "metadata": {},
     "output_type": "display_data"
    }
   ],
   "source": [
    "import matplotlib.pyplot as plt\n",
    "\n",
    "n_scores = len(rfe_xgbcv.cv_results_[\"mean_test_score\"])\n",
    "plt.figure()\n",
    "plt.xlabel(\"Number of features selected\")\n",
    "plt.ylabel(\"Cross Validation Score\")\n",
    "plt.plot(range(min_features_to_select, n_scores + min_features_to_select),\n",
    "    rfe_xgbcv.cv_results_[\"mean_test_score\"])\n",
    "plt.title(\"Recursive Feature Elimination\")\n",
    "plt.show()"
   ]
  },
  {
   "cell_type": "code",
   "execution_count": null,
   "metadata": {},
   "outputs": [],
   "source": []
  },
  {
   "cell_type": "markdown",
   "metadata": {},
   "source": [
    "##### Adaboost"
   ]
  },
  {
   "cell_type": "code",
   "execution_count": 48,
   "metadata": {},
   "outputs": [
    {
     "name": "stdout",
     "output_type": "stream",
     "text": [
      "Optimal number of features: 13\n",
      "Column: 0, Selected True, Rank: 1.000\n",
      "Column: 1, Selected True, Rank: 1.000\n",
      "Column: 2, Selected True, Rank: 1.000\n",
      "Column: 3, Selected True, Rank: 1.000\n",
      "Column: 4, Selected True, Rank: 1.000\n",
      "Column: 5, Selected True, Rank: 1.000\n",
      "Column: 6, Selected True, Rank: 1.000\n",
      "Column: 7, Selected True, Rank: 1.000\n",
      "Column: 8, Selected False, Rank: 6.000\n",
      "Column: 9, Selected True, Rank: 1.000\n",
      "Column: 10, Selected False, Rank: 10.000\n",
      "Column: 11, Selected False, Rank: 12.000\n",
      "Column: 12, Selected False, Rank: 11.000\n",
      "Column: 13, Selected False, Rank: 9.000\n",
      "Column: 14, Selected True, Rank: 1.000\n",
      "Column: 15, Selected False, Rank: 4.000\n",
      "Column: 16, Selected True, Rank: 1.000\n",
      "Column: 17, Selected False, Rank: 3.000\n",
      "Column: 18, Selected False, Rank: 5.000\n",
      "Column: 19, Selected True, Rank: 1.000\n",
      "Column: 20, Selected False, Rank: 7.000\n",
      "Column: 21, Selected False, Rank: 2.000\n",
      "Column: 22, Selected True, Rank: 1.000\n",
      "Column: 23, Selected False, Rank: 8.000\n"
     ]
    }
   ],
   "source": [
    "from sklearn.feature_selection import RFECV\n",
    "from sklearn.ensemble import AdaBoostClassifier\n",
    "from sklearn.model_selection import KFold, StratifiedKFold\n",
    "\n",
    "min_features_to_select = 5  # Minimum number of features to consider\n",
    "adb = AdaBoostClassifier()  # Use a linear kernel\n",
    "cv = StratifiedKFold(10)\n",
    "\n",
    "rfe_adbcv = RFECV(estimator=adb, step=1, cv=cv, scoring=\"accuracy\", min_features_to_select=min_features_to_select)\n",
    "rfe_adbcv.fit(X_train, y_train)\n",
    "\n",
    "print(f\"Optimal number of features: {rfe_adbcv.n_features_}\")\n",
    "\n",
    "for i in range(X.shape[1]):\n",
    "    print('Column: %d, Selected %s, Rank: %.3f' % (i, rfe_adbcv.support_[i], rfe_adbcv.ranking_[i]))\n"
   ]
  },
  {
   "cell_type": "code",
   "execution_count": 49,
   "metadata": {},
   "outputs": [
    {
     "name": "stdout",
     "output_type": "stream",
     "text": [
      "[0.78606058 0.79718756 0.79852561 0.80089643 0.80192983 0.80697613\n",
      " 0.81111105 0.81159685 0.81433264 0.81433264 0.81433264 0.81433264\n",
      " 0.81433264 0.81433264 0.81433264 0.81433264 0.81433264 0.81433264\n",
      " 0.81433264 0.81433264]\n"
     ]
    }
   ],
   "source": [
    "print(rfe_adbcv.cv_results_[\"mean_test_score\"])"
   ]
  },
  {
   "cell_type": "code",
   "execution_count": 50,
   "metadata": {},
   "outputs": [
    {
     "data": {
      "image/png": "[encoded data removed]",
      "text/plain": [
       "<Figure size 640x480 with 1 Axes>"
      ]
     },
     "metadata": {},
     "output_type": "display_data"
    }
   ],
   "source": [
    "import matplotlib.pyplot as plt\n",
    "\n",
    "n_scores = len(rfe_adbcv.cv_results_[\"mean_test_score\"])\n",
    "plt.figure()\n",
    "plt.xlabel(\"Number of features selected\")\n",
    "plt.ylabel(\"Cross Validation Score\")\n",
    "plt.plot(range(min_features_to_select, n_scores + min_features_to_select),\n",
    "    rfe_adbcv.cv_results_[\"mean_test_score\"])\n",
    "plt.title(\"Recursive Feature Elimination\")\n",
    "plt.show()"
   ]
  },
  {
   "cell_type": "code",
   "execution_count": null,
   "metadata": {},
   "outputs": [],
   "source": []
  },
  {
   "cell_type": "code",
   "execution_count": null,
   "metadata": {},
   "outputs": [],
   "source": []
  },
  {
   "cell_type": "code",
   "execution_count": null,
   "metadata": {},
   "outputs": [],
   "source": []
  },
  {
   "cell_type": "markdown",
   "metadata": {
    "id": "29ry3GSGx9P_"
   },
   "source": [
    "## Training the model (using Ensemble Methods) on the Training set"
   ]
  },
  {
   "cell_type": "code",
   "execution_count": 19,
   "metadata": {},
   "outputs": [],
   "source": [
    "from sklearn.metrics import classification_report\n",
    "from sklearn.metrics import accuracy_score\n",
    "from sklearn.metrics import roc_auc_score\n",
    "from sklearn.model_selection import StratifiedKFold, KFold, cross_val_score, cross_val_predict\n",
    "from sklearn.model_selection import GridSearchCV, RandomizedSearchCV"
   ]
  },
  {
   "cell_type": "markdown",
   "metadata": {},
   "source": [
    "### Random Forest Classifier (RFC)"
   ]
  },
  {
   "cell_type": "code",
   "execution_count": 121,
   "metadata": {
    "colab": {
     "base_uri": "https://localhost:8080/"
    },
    "executionInfo": {
     "elapsed": 537,
     "status": "ok",
     "timestamp": 1667115002887,
     "user": {
      "displayName": "Hadelin de Ponteves",
      "userId": "15047218817161520419"
     },
     "user_tz": -240
    },
    "id": "BUM0MSyGyCjF",
    "outputId": "70e36fa4-7ae8-4e0a-a0dc-66693a12eb9c"
   },
   "outputs": [
    {
     "name": "stdout",
     "output_type": "stream",
     "text": [
      "Accuracy of Train Data:  80.84640989063243\n",
      "Accuracy of Test Data:  79.6880943324458\n"
     ]
    }
   ],
   "source": [
    "from sklearn.ensemble import RandomForestClassifier\n",
    "mod_RFC = RandomForestClassifier(criterion = \"entropy\", n_estimators = 800, random_state = 0,\n",
    "                                min_samples_leaf = 6)\n",
    "mod_RFC = mod_RFC.fit(X_train, y_train)\n",
    "y_pred = mod_RFC.predict(X_test)\n",
    "y_train_pred = mod_RFC.predict(X_train)\n",
    "print(\"Accuracy of Train Data: \", accuracy_score(y_train, y_train_pred)*100) \n",
    "print(\"Accuracy of Test Data: \", accuracy_score(y_test, y_pred)*100) \n",
    "\n",
    "#cvs = cross_val_score(mod_RFC, X_train, y_train, cv = 10, scoring = \"accuracy\")\n",
    "#print(cvs.mean())"
   ]
  },
  {
   "cell_type": "code",
   "execution_count": 107,
   "metadata": {},
   "outputs": [
    {
     "data": {
      "text/plain": [
       "array([[8094,  130],\n",
       "       [1884,  407]], dtype=int64)"
      ]
     },
     "execution_count": 107,
     "metadata": {},
     "output_type": "execute_result"
    }
   ],
   "source": [
    "# Confusion Matrix of Training Data\n",
    "\n",
    "from sklearn.metrics import confusion_matrix\n",
    "conf_mat_rf1 = confusion_matrix(y_train, y_train_pred)\n",
    "conf_mat_rf1"
   ]
  },
  {
   "cell_type": "code",
   "execution_count": 106,
   "metadata": {},
   "outputs": [
    {
     "data": {
      "text/plain": [
       "array([[2007,   55],\n",
       "       [ 479,   88]], dtype=int64)"
      ]
     },
     "execution_count": 106,
     "metadata": {},
     "output_type": "execute_result"
    }
   ],
   "source": [
    "# Confusion Matrix of Test Data\n",
    "\n",
    "from sklearn.metrics import confusion_matrix\n",
    "conf_mat_rf = confusion_matrix(y_test, y_pred)\n",
    "conf_mat_rf"
   ]
  },
  {
   "cell_type": "code",
   "execution_count": 122,
   "metadata": {},
   "outputs": [
    {
     "name": "stdout",
     "output_type": "stream",
     "text": [
      "Random Forest: AUC_ROC = 0.8168\n"
     ]
    }
   ],
   "source": [
    "# AUC Value of RF ON Training Data\n",
    "probs1 = [0 for _ in range(len(y_train))]\n",
    "rf_probs1 = mod_RFC.predict_proba(X_train)\n",
    "rf_probs1 = rf_probs1[:, 1]\n",
    "rf_auc1 = roc_auc_score(y_train, rf_probs1)\n",
    "print(\"Random Forest: AUC_ROC = %.4f\" %(rf_auc1))"
   ]
  },
  {
   "cell_type": "code",
   "execution_count": 32,
   "metadata": {},
   "outputs": [
    {
     "name": "stdout",
     "output_type": "stream",
     "text": [
      "Random Forest: AUC_ROC = 0.7553\n"
     ]
    }
   ],
   "source": [
    "# AUC Value of RF ON Test Data\n",
    "from sklearn.metrics import roc_auc_score, roc_curve\n",
    "probs = [0 for _ in range(len(y_test))]\n",
    "rf_probs = mod_RFC.predict_proba(X_test)\n",
    "rf_probs = rf_probs[:, 1]\n",
    "rf_auc = roc_auc_score(y_test, rf_probs)\n",
    "print(\"Random Forest: AUC_ROC = %.4f\" %(rf_auc))"
   ]
  },
  {
   "cell_type": "markdown",
   "metadata": {},
   "source": [
    "#### Hyperparameter Tuning of RFC"
   ]
  },
  {
   "cell_type": "code",
   "execution_count": 102,
   "metadata": {},
   "outputs": [
    {
     "name": "stdout",
     "output_type": "stream",
     "text": [
      "Best Accuracy: 78.54 %\n",
      "Best Paramters: {'n_estimators': 800, 'min_samples_leaf': 6, 'max_features': 'sqrt', 'max_depth': 120, 'criterion': 'entropy'}\n"
     ]
    }
   ],
   "source": [
    "parameters = [{\"max_depth\": [int(x) for x in np.linspace(10, 1000, 10)],\n",
    "              \"max_features\": [\"auto\", \"sqrt\", \"log2\"],\n",
    "              \"min_samples_leaf\": [1,2,3,4,5,6,7,8,9],\n",
    "              \"n_estimators\": [100,150,200,300,400,500,600,700,800,900, 1000, 2000, 3000, 3300],\n",
    "              \"criterion\": [\"gini\", \"entropy\"]}]\n",
    "random_search = RandomizedSearchCV(mod_RFC, param_distributions = parameters, scoring = \"accuracy\", cv = 10, n_jobs = -1)\n",
    "\n",
    "random_search.fit(X_train,y_train)\n",
    "best_accuracy = random_search.best_score_\n",
    "best_paramters = random_search.best_params_\n",
    "\n",
    "print(\"Best Accuracy: {:.2f} %\".format((best_accuracy)*100))\n",
    "print(\"Best Paramters:\",best_paramters)"
   ]
  },
  {
   "cell_type": "markdown",
   "metadata": {},
   "source": [
    "### AdaBoost Classifier"
   ]
  },
  {
   "cell_type": "code",
   "execution_count": 123,
   "metadata": {},
   "outputs": [
    {
     "name": "stdout",
     "output_type": "stream",
     "text": [
      "Accuracy of Train Data:  79.72420351878269\n",
      "Accuracy of Test Data:  79.61201977938379\n"
     ]
    }
   ],
   "source": [
    "#mod_ABC = AdaBoostClassifier(n_estimators = 3000, learning_rate = 0.161, algorithm = 'SAMME.R')\n",
    "\n",
    "from sklearn.ensemble import AdaBoostClassifier\n",
    "mod_ABC = AdaBoostClassifier(n_estimators = 2000, learning_rate = 0.141, algorithm = \"SAMME.R\")\n",
    "mod_ABC = mod_ABC.fit(X_train, y_train)\n",
    "y_pred = mod_ABC.predict(X_test) \n",
    "y_train_pred = mod_ABC.predict(X_train)\n",
    "print(\"Accuracy of Train Data: \", accuracy_score(y_train, y_train_pred)*100) \n",
    "print(\"Accuracy of Test Data: \", accuracy_score(y_test, y_pred)*100) "
   ]
  },
  {
   "cell_type": "code",
   "execution_count": 124,
   "metadata": {},
   "outputs": [
    {
     "data": {
      "text/plain": [
       "array([[7905,  319],\n",
       "       [1813,  478]], dtype=int64)"
      ]
     },
     "execution_count": 124,
     "metadata": {},
     "output_type": "execute_result"
    }
   ],
   "source": [
    "# Confusion Matrix of Training Data\n",
    "\n",
    "from sklearn.metrics import confusion_matrix\n",
    "conf_mat_ada1 = confusion_matrix(y_train, y_train_pred)\n",
    "conf_mat_ada1"
   ]
  },
  {
   "cell_type": "code",
   "execution_count": 125,
   "metadata": {},
   "outputs": [
    {
     "data": {
      "text/plain": [
       "array([[1982,   80],\n",
       "       [ 456,  111]], dtype=int64)"
      ]
     },
     "execution_count": 125,
     "metadata": {},
     "output_type": "execute_result"
    }
   ],
   "source": [
    "# Confusion Matrix of Test Data\n",
    "conf_mat_ada = confusion_matrix(y_test, y_pred)\n",
    "conf_mat_ada"
   ]
  },
  {
   "cell_type": "code",
   "execution_count": 127,
   "metadata": {},
   "outputs": [
    {
     "name": "stdout",
     "output_type": "stream",
     "text": [
      "Random Forest: AUC_ROC = 0.7636\n"
     ]
    }
   ],
   "source": [
    "# AUC Value of RF ON Training Data\n",
    "probs1 = [0 for _ in range(len(y_train))]\n",
    "ada_probs1 = mod_ABC.predict_proba(X_train)\n",
    "ada_probs1 = ada_probs1[:, 1]\n",
    "ada_auc1 = roc_auc_score(y_train, ada_probs1)\n",
    "print(\"Random Forest: AUC_ROC = %.4f\" %(ada_auc1))"
   ]
  },
  {
   "cell_type": "code",
   "execution_count": 126,
   "metadata": {},
   "outputs": [
    {
     "name": "stdout",
     "output_type": "stream",
     "text": [
      "Random Forest: AUC_ROC = 0.7635\n"
     ]
    }
   ],
   "source": [
    "# AUC Value of Adaboost\n",
    "\n",
    "probs = [0 for _ in range(len(y_test))]\n",
    "ada_probs = mod_ABC.predict_proba(X_test)\n",
    "ada_probs = ada_probs[:, 1]\n",
    "ada_auc = roc_auc_score(y_test, ada_probs)\n",
    "print(\"Random Forest: AUC_ROC = %.4f\" %(ada_auc))"
   ]
  },
  {
   "cell_type": "markdown",
   "metadata": {},
   "source": [
    "#### Hyperparameter Tuning of ABC"
   ]
  },
  {
   "cell_type": "code",
   "execution_count": 113,
   "metadata": {},
   "outputs": [
    {
     "name": "stdout",
     "output_type": "stream",
     "text": [
      "Best Accuracy: 78.36 %\n",
      "Best Paramters: {'n_estimators': 2000, 'learning_rate': 0.14100000000000001, 'algorithm': 'SAMME.R'}\n"
     ]
    }
   ],
   "source": [
    "parameters = [{\"learning_rate\": [(0.001 + x / 100) for x in range(0, 40)],\n",
    "              \"n_estimators\": [50,100,150,200,300,400,500,600,700,800,900, 1000, 2000, 3000, 3300],\n",
    "              'algorithm': ['SAMME', 'SAMME.R']}]\n",
    "random_search1 = RandomizedSearchCV(mod_ABC, param_distributions = parameters, scoring = \"accuracy\", cv = 10, n_jobs = -1)\n",
    "\n",
    "random_search1.fit(X_train,y_train)\n",
    "best_accuracy = random_search1.best_score_\n",
    "best_paramters = random_search1.best_params_\n",
    "\n",
    "print(\"Best Accuracy: {:.2f} %\".format((best_accuracy)*100))\n",
    "print(\"Best Paramters:\",best_paramters)"
   ]
  },
  {
   "cell_type": "markdown",
   "metadata": {},
   "source": [
    "### XGBoost Classifier"
   ]
  },
  {
   "cell_type": "code",
   "execution_count": 67,
   "metadata": {
    "scrolled": true
   },
   "outputs": [
    {
     "name": "stdout",
     "output_type": "stream",
     "text": [
      "Requirement already satisfied: xgboost in c:\\users\\user 1\\anaconda3\\new_anaconda\\lib\\site-packages (1.7.5)\n",
      "Requirement already satisfied: scipy in c:\\users\\user 1\\anaconda3\\new_anaconda\\lib\\site-packages (from xgboost) (1.10.0)\n",
      "Requirement already satisfied: numpy in c:\\users\\user 1\\anaconda3\\new_anaconda\\lib\\site-packages (from xgboost) (1.23.5)\n"
     ]
    }
   ],
   "source": [
    "!pip install xgboost"
   ]
  },
  {
   "cell_type": "code",
   "execution_count": 128,
   "metadata": {},
   "outputs": [
    {
     "name": "stdout",
     "output_type": "stream",
     "text": [
      "Accuracy of Train Data:  82.44412743699478\n",
      "Accuracy of Test Data:  79.8402434385698\n"
     ]
    }
   ],
   "source": [
    "from xgboost import XGBClassifier\n",
    "mod_XGB = XGBClassifier(n_estimators = 2000, learning_rate = 0.13, gamma = 0.5, random_state = 0)\n",
    "mod_XGB = mod_XGB.fit(X_train, y_train)\n",
    "y_pred = mod_XGB.predict(X_test)\n",
    "y_train_pred = mod_XGB.predict(X_train)\n",
    "print(\"Accuracy of Train Data: \", accuracy_score(y_train, y_train_pred)*100) \n",
    "print(\"Accuracy of Test Data: \", accuracy_score(y_test, y_pred)*100) "
   ]
  },
  {
   "cell_type": "code",
   "execution_count": 129,
   "metadata": {},
   "outputs": [
    {
     "data": {
      "text/plain": [
       "array([[8017,  207],\n",
       "       [1639,  652]], dtype=int64)"
      ]
     },
     "execution_count": 129,
     "metadata": {},
     "output_type": "execute_result"
    }
   ],
   "source": [
    "# Confusion Matrix of Training Data\n",
    "\n",
    "from sklearn.metrics import confusion_matrix\n",
    "conf_mat_xgb1 = confusion_matrix(y_train, y_train_pred)\n",
    "conf_mat_xgb1"
   ]
  },
  {
   "cell_type": "code",
   "execution_count": 130,
   "metadata": {},
   "outputs": [
    {
     "data": {
      "text/plain": [
       "array([[1972,   90],\n",
       "       [ 440,  127]], dtype=int64)"
      ]
     },
     "execution_count": 130,
     "metadata": {},
     "output_type": "execute_result"
    }
   ],
   "source": [
    "conf_mat_xgb = confusion_matrix(y_test, y_pred)\n",
    "conf_mat_xgb"
   ]
  },
  {
   "cell_type": "code",
   "execution_count": 131,
   "metadata": {},
   "outputs": [
    {
     "name": "stdout",
     "output_type": "stream",
     "text": [
      "Random Forest: AUC_ROC = 0.8172\n"
     ]
    }
   ],
   "source": [
    "# AUC Value of XGBOOST of Training data\n",
    "\n",
    "probs = [0 for _ in range(len(y_train))]\n",
    "xgb_probs1 = mod_XGB.predict_proba(X_train)\n",
    "xgb_probs1 = xgb_probs1[:, 1]\n",
    "xgb_auc1 = roc_auc_score(y_train, xgb_probs1)\n",
    "print(\"Random Forest: AUC_ROC = %.4f\" %(xgb_auc1))"
   ]
  },
  {
   "cell_type": "code",
   "execution_count": 132,
   "metadata": {},
   "outputs": [
    {
     "name": "stdout",
     "output_type": "stream",
     "text": [
      "Random Forest: AUC_ROC = 0.7522\n"
     ]
    }
   ],
   "source": [
    "# AUC Value of XGBOOST of Test Data\n",
    "\n",
    "probs = [0 for _ in range(len(y_test))]\n",
    "xgb_probs = mod_XGB.predict_proba(X_test)\n",
    "xgb_probs = xgb_probs[:, 1]\n",
    "xgb_auc = roc_auc_score(y_test, xgb_probs)\n",
    "print(\"Random Forest: AUC_ROC = %.4f\" %(xgb_auc))"
   ]
  },
  {
   "cell_type": "code",
   "execution_count": 136,
   "metadata": {},
   "outputs": [
    {
     "name": "stdout",
     "output_type": "stream",
     "text": [
      "[14:34:08] WARNING: C:\\buildkite-agent\\builds\\buildkite-windows-cpu-autoscaling-group-i-07593ffd91cd9da33-1\\xgboost\\xgboost-ci-windows\\src\\learner.cc:767: \n",
      "Parameters: { \"num_boost_round\" } are not used.\n",
      "\n",
      "Best Accuracy: 78.41 %\n",
      "Best Paramters: {'colsample_bytree': 0.6550066553365215, 'gamma': 0.5, 'learning_rate': 0.13, 'max_bin': 6, 'max_depth': 64, 'min_child_weight': 48, 'n_estimators': 2000, 'num_boost_round': 900, 'reg_alpha': 5, 'reg_lambda': 5, 'subsample': 0.59}\n"
     ]
    }
   ],
   "source": [
    "parameters = [{\n",
    "    \"n_estimators\": [50, 100, 150, 200, 300, 400, 500, 600, 700, 800, 900, 1000, 2000, 3000, 3300],\n",
    "    \"num_boost_round\": [50, 100, 150, 200, 300, 400, 500, 600, 700, 800, 900, 1000, 2000, 3000, 3300],\n",
    "    \"max_depth\": [int(x) for x in np.linspace(10, 500, num=10, dtype=int)],\n",
    "    \"learning_rate\": [(0.01 + x / 100) for x in range(10, 100)],\n",
    "    \"subsample\": [(0.1 + x / 100) for x in range(10, 90)],\n",
    "    \"gamma\": [0.0, 0.1, 0.2, 0.3, 0.4, 0.5, 0.6, 0.7, 0.8, 0.9, 1],\n",
    "    \"min_child_weight\": [int(x) for x in np.linspace(5, 200, num=10, dtype=int)],\n",
    "    \"max_bin\": range(3, 18, 3),\n",
    "    \"colsample_bytree\": sp_uniform(loc=0.4, scale=0.6),\n",
    "    \"reg_alpha\": [0, 1e-1, 1, 2, 5, 7, 10, 50, 100],\n",
    "    \"reg_lambda\": [0, 1e-1, 1, 5, 10, 20, 50, 100]\n",
    "    }]\n",
    "\n",
    "random_search5 = RandomizedSearchCV(mod_XGB, param_distributions = parameters, scoring = \"accuracy\", cv = 10, n_jobs = -1)\n",
    "\n",
    "random_search5.fit(X_train,y_train)\n",
    "best_accuracy = random_search5.best_score_\n",
    "best_paramters = random_search5.best_params_\n",
    "\n",
    "print(\"Best Accuracy: {:.2f} %\".format((best_accuracy)*100))\n",
    "print(\"Best Paramters:\",best_paramters)"
   ]
  },
  {
   "cell_type": "markdown",
   "metadata": {},
   "source": [
    "### Gradient Boosting Classifier"
   ]
  },
  {
   "cell_type": "code",
   "execution_count": 133,
   "metadata": {},
   "outputs": [
    {
     "name": "stdout",
     "output_type": "stream",
     "text": [
      "Accuracy of Train Data:  80.73228720874941\n",
      "Accuracy of Test Data:  80.4108025865348\n"
     ]
    }
   ],
   "source": [
    "#mod_GBC = GradientBoostingClassifier(learning_rate = 0.04, n_estimators = 300, criterion = \"squared_error\", \n",
    "                                     #max_features = \"sqrt\", min_samples_leaf = 10, random_state = 0)\n",
    "\n",
    "from sklearn.ensemble import GradientBoostingClassifier\n",
    "mod_GBC = GradientBoostingClassifier(learning_rate = 0.051, n_estimators = 800,random_state = 0,\n",
    "                    criterion = \"squared_error\", max_features = \"sqrt\", min_samples_leaf = 5) \n",
    "mod_GBC = mod_GBC.fit(X_train, y_train)\n",
    "y_pred = mod_GBC.predict(X_test)\n",
    "y_train_pred = mod_GBC.predict(X_train)\n",
    "print(\"Accuracy of Train Data: \", accuracy_score(y_train, y_train_pred)*100) \n",
    "print(\"Accuracy of Test Data: \", accuracy_score(y_test, y_pred)*100)"
   ]
  },
  {
   "cell_type": "code",
   "execution_count": 134,
   "metadata": {},
   "outputs": [
    {
     "data": {
      "text/plain": [
       "array([[7907,  317],\n",
       "       [1709,  582]], dtype=int64)"
      ]
     },
     "execution_count": 134,
     "metadata": {},
     "output_type": "execute_result"
    }
   ],
   "source": [
    "# Confusion Matrix of Training Data\n",
    "\n",
    "from sklearn.metrics import confusion_matrix\n",
    "conf_mat_gbc1 = confusion_matrix(y_train, y_train_pred)\n",
    "conf_mat_gbc1"
   ]
  },
  {
   "cell_type": "code",
   "execution_count": 135,
   "metadata": {},
   "outputs": [
    {
     "data": {
      "text/plain": [
       "array([[1973,   89],\n",
       "       [ 426,  141]], dtype=int64)"
      ]
     },
     "execution_count": 135,
     "metadata": {},
     "output_type": "execute_result"
    }
   ],
   "source": [
    "conf_mat_gbc = confusion_matrix(y_test, y_pred)\n",
    "conf_mat_gbc"
   ]
  },
  {
   "cell_type": "code",
   "execution_count": 136,
   "metadata": {},
   "outputs": [
    {
     "name": "stdout",
     "output_type": "stream",
     "text": [
      "Random Forest: AUC_ROC = 0.7873\n"
     ]
    }
   ],
   "source": [
    "# AUC Value of GradBoost of Training Data\n",
    "\n",
    "probs = [0 for _ in range(len(y_train))]\n",
    "gbc_probs1 = mod_GBC.predict_proba(X_train)\n",
    "gbc_probs1 = gbc_probs1[:, 1]\n",
    "gbc_auc1 = roc_auc_score(y_train, gbc_probs1)\n",
    "print(\"Random Forest: AUC_ROC = %.4f\" %(gbc_auc1))"
   ]
  },
  {
   "cell_type": "code",
   "execution_count": 137,
   "metadata": {},
   "outputs": [
    {
     "name": "stdout",
     "output_type": "stream",
     "text": [
      "Random Forest: AUC_ROC = 0.7628\n"
     ]
    }
   ],
   "source": [
    "# AUC Value of Adaboost\n",
    "\n",
    "probs = [0 for _ in range(len(y_test))]\n",
    "gbc_probs = mod_GBC.predict_proba(X_test)\n",
    "gbc_probs = gbc_probs[:, 1]\n",
    "gbc_auc = roc_auc_score(y_test, gbc_probs)\n",
    "print(\"Random Forest: AUC_ROC = %.4f\" %(gbc_auc))"
   ]
  },
  {
   "cell_type": "markdown",
   "metadata": {},
   "source": [
    "#### Hyperparameter Tuning of GBC"
   ]
  },
  {
   "cell_type": "code",
   "execution_count": 116,
   "metadata": {},
   "outputs": [
    {
     "name": "stderr",
     "output_type": "stream",
     "text": [
      "C:\\Users\\user 1\\anaconda3\\New_Anaconda\\lib\\site-packages\\sklearn\\model_selection\\_validation.py:378: FitFailedWarning: \n",
      "50 fits failed out of a total of 100.\n",
      "The score on these train-test partitions for these parameters will be set to nan.\n",
      "If these failures are not expected, you can try to debug them by setting error_score='raise'.\n",
      "\n",
      "Below are more details about the failures:\n",
      "--------------------------------------------------------------------------------\n",
      "10 fits failed with the following error:\n",
      "Traceback (most recent call last):\n",
      "  File \"C:\\Users\\user 1\\anaconda3\\New_Anaconda\\lib\\site-packages\\sklearn\\model_selection\\_validation.py\", line 686, in _fit_and_score\n",
      "    estimator.fit(X_train, y_train, **fit_params)\n",
      "  File \"C:\\Users\\user 1\\anaconda3\\New_Anaconda\\lib\\site-packages\\sklearn\\ensemble\\_gb.py\", line 420, in fit\n",
      "    self._validate_params()\n",
      "  File \"C:\\Users\\user 1\\anaconda3\\New_Anaconda\\lib\\site-packages\\sklearn\\base.py\", line 581, in _validate_params\n",
      "    validate_parameter_constraints(\n",
      "  File \"C:\\Users\\user 1\\anaconda3\\New_Anaconda\\lib\\site-packages\\sklearn\\utils\\_param_validation.py\", line 97, in validate_parameter_constraints\n",
      "    raise InvalidParameterError(\n",
      "sklearn.utils._param_validation.InvalidParameterError: The 'subsample' parameter of GradientBoostingClassifier must be a float in the range (0.0, 1.0]. Got 2.05 instead.\n",
      "\n",
      "--------------------------------------------------------------------------------\n",
      "10 fits failed with the following error:\n",
      "Traceback (most recent call last):\n",
      "  File \"C:\\Users\\user 1\\anaconda3\\New_Anaconda\\lib\\site-packages\\sklearn\\model_selection\\_validation.py\", line 686, in _fit_and_score\n",
      "    estimator.fit(X_train, y_train, **fit_params)\n",
      "  File \"C:\\Users\\user 1\\anaconda3\\New_Anaconda\\lib\\site-packages\\sklearn\\ensemble\\_gb.py\", line 420, in fit\n",
      "    self._validate_params()\n",
      "  File \"C:\\Users\\user 1\\anaconda3\\New_Anaconda\\lib\\site-packages\\sklearn\\base.py\", line 581, in _validate_params\n",
      "    validate_parameter_constraints(\n",
      "  File \"C:\\Users\\user 1\\anaconda3\\New_Anaconda\\lib\\site-packages\\sklearn\\utils\\_param_validation.py\", line 97, in validate_parameter_constraints\n",
      "    raise InvalidParameterError(\n",
      "sklearn.utils._param_validation.InvalidParameterError: The 'subsample' parameter of GradientBoostingClassifier must be a float in the range (0.0, 1.0]. Got 1.4400000000000002 instead.\n",
      "\n",
      "--------------------------------------------------------------------------------\n",
      "10 fits failed with the following error:\n",
      "Traceback (most recent call last):\n",
      "  File \"C:\\Users\\user 1\\anaconda3\\New_Anaconda\\lib\\site-packages\\sklearn\\model_selection\\_validation.py\", line 686, in _fit_and_score\n",
      "    estimator.fit(X_train, y_train, **fit_params)\n",
      "  File \"C:\\Users\\user 1\\anaconda3\\New_Anaconda\\lib\\site-packages\\sklearn\\ensemble\\_gb.py\", line 420, in fit\n",
      "    self._validate_params()\n",
      "  File \"C:\\Users\\user 1\\anaconda3\\New_Anaconda\\lib\\site-packages\\sklearn\\base.py\", line 581, in _validate_params\n",
      "    validate_parameter_constraints(\n",
      "  File \"C:\\Users\\user 1\\anaconda3\\New_Anaconda\\lib\\site-packages\\sklearn\\utils\\_param_validation.py\", line 97, in validate_parameter_constraints\n",
      "    raise InvalidParameterError(\n",
      "sklearn.utils._param_validation.InvalidParameterError: The 'subsample' parameter of GradientBoostingClassifier must be a float in the range (0.0, 1.0]. Got 1.32 instead.\n",
      "\n",
      "--------------------------------------------------------------------------------\n",
      "10 fits failed with the following error:\n",
      "Traceback (most recent call last):\n",
      "  File \"C:\\Users\\user 1\\anaconda3\\New_Anaconda\\lib\\site-packages\\sklearn\\model_selection\\_validation.py\", line 686, in _fit_and_score\n",
      "    estimator.fit(X_train, y_train, **fit_params)\n",
      "  File \"C:\\Users\\user 1\\anaconda3\\New_Anaconda\\lib\\site-packages\\sklearn\\ensemble\\_gb.py\", line 420, in fit\n",
      "    self._validate_params()\n",
      "  File \"C:\\Users\\user 1\\anaconda3\\New_Anaconda\\lib\\site-packages\\sklearn\\base.py\", line 581, in _validate_params\n",
      "    validate_parameter_constraints(\n",
      "  File \"C:\\Users\\user 1\\anaconda3\\New_Anaconda\\lib\\site-packages\\sklearn\\utils\\_param_validation.py\", line 97, in validate_parameter_constraints\n",
      "    raise InvalidParameterError(\n",
      "sklearn.utils._param_validation.InvalidParameterError: The 'subsample' parameter of GradientBoostingClassifier must be a float in the range (0.0, 1.0]. Got 1.81 instead.\n",
      "\n",
      "--------------------------------------------------------------------------------\n",
      "10 fits failed with the following error:\n",
      "Traceback (most recent call last):\n",
      "  File \"C:\\Users\\user 1\\anaconda3\\New_Anaconda\\lib\\site-packages\\sklearn\\model_selection\\_validation.py\", line 686, in _fit_and_score\n",
      "    estimator.fit(X_train, y_train, **fit_params)\n",
      "  File \"C:\\Users\\user 1\\anaconda3\\New_Anaconda\\lib\\site-packages\\sklearn\\ensemble\\_gb.py\", line 420, in fit\n",
      "    self._validate_params()\n",
      "  File \"C:\\Users\\user 1\\anaconda3\\New_Anaconda\\lib\\site-packages\\sklearn\\base.py\", line 581, in _validate_params\n",
      "    validate_parameter_constraints(\n",
      "  File \"C:\\Users\\user 1\\anaconda3\\New_Anaconda\\lib\\site-packages\\sklearn\\utils\\_param_validation.py\", line 97, in validate_parameter_constraints\n",
      "    raise InvalidParameterError(\n",
      "sklearn.utils._param_validation.InvalidParameterError: The 'subsample' parameter of GradientBoostingClassifier must be a float in the range (0.0, 1.0]. Got 1.79 instead.\n",
      "\n",
      "  warnings.warn(some_fits_failed_message, FitFailedWarning)\n",
      "C:\\Users\\user 1\\anaconda3\\New_Anaconda\\lib\\site-packages\\sklearn\\model_selection\\_search.py:952: UserWarning: One or more of the test scores are non-finite: [0.77898733 0.77913545        nan        nan        nan 0.7790868\n",
      " 0.77805081        nan        nan 0.78041731]\n",
      "  warnings.warn(\n"
     ]
    },
    {
     "name": "stdout",
     "output_type": "stream",
     "text": [
      "Best Accuracy: 78.04 %\n",
      "Best Paramters: {'subsample': 0.7, 'n_estimators': 800, 'min_samples_leaf': 5, 'max_features': 'sqrt', 'max_depth': 120, 'loss': 'exponential', 'learning_rate': 0.051000000000000004, 'criterion': 'squared_error'}\n"
     ]
    }
   ],
   "source": [
    "parameters = [{\"learning_rate\": [(0.001 + x / 100) for x in range(0, 40)],\n",
    "              \"n_estimators\": [50,100,150,200,300,400,500,600,700,800,900, 1000, 2000, 3000, 3300],\n",
    "              \"loss\": [\"log_loss\", \"exponential\"],\n",
    "              \"max_depth\": [int(x) for x in np.linspace(10, 1000, 10)],\n",
    "              \"max_features\": [\"sqrt\", \"log2\"],\n",
    "              \"min_samples_leaf\": [1,2,3,4,5,6,7,8,9],\n",
    "              \"subsample\": [(0.1 + x / 100) for x in range(10, 200)],\n",
    "              \"criterion\": [\"friedman_mse\", \"squared_error\"]}]\n",
    "\n",
    "random_search2 = RandomizedSearchCV(mod_GBC, param_distributions = parameters, scoring = \"accuracy\", cv = 10, n_jobs = -1)\n",
    "\n",
    "random_search2.fit(X_train,y_train)\n",
    "best_accuracy = random_search2.best_score_\n",
    "best_paramters = random_search2.best_params_\n",
    "\n",
    "print(\"Best Accuracy: {:.2f} %\".format((best_accuracy)*100))\n",
    "print(\"Best Paramters:\",best_paramters)"
   ]
  },
  {
   "cell_type": "markdown",
   "metadata": {},
   "source": [
    "### Light GBM Classifier"
   ]
  },
  {
   "cell_type": "code",
   "execution_count": 65,
   "metadata": {
    "scrolled": true
   },
   "outputs": [
    {
     "name": "stdout",
     "output_type": "stream",
     "text": [
      "Requirement already satisfied: lightgbm in c:\\users\\user 1\\anaconda3\\new_anaconda\\lib\\site-packages (3.3.5)\n",
      "Requirement already satisfied: numpy in c:\\users\\user 1\\anaconda3\\new_anaconda\\lib\\site-packages (from lightgbm) (1.23.5)\n",
      "Requirement already satisfied: wheel in c:\\users\\user 1\\anaconda3\\new_anaconda\\lib\\site-packages (from lightgbm) (0.38.4)\n",
      "Requirement already satisfied: scikit-learn!=0.22.0 in c:\\users\\user 1\\anaconda3\\new_anaconda\\lib\\site-packages (from lightgbm) (1.2.1)\n",
      "Requirement already satisfied: scipy in c:\\users\\user 1\\anaconda3\\new_anaconda\\lib\\site-packages (from lightgbm) (1.10.0)\n",
      "Requirement already satisfied: joblib>=1.1.1 in c:\\users\\user 1\\anaconda3\\new_anaconda\\lib\\site-packages (from scikit-learn!=0.22.0->lightgbm) (1.1.1)\n",
      "Requirement already satisfied: threadpoolctl>=2.0.0 in c:\\users\\user 1\\anaconda3\\new_anaconda\\lib\\site-packages (from scikit-learn!=0.22.0->lightgbm) (2.2.0)\n"
     ]
    }
   ],
   "source": [
    "!pip install lightgbm"
   ]
  },
  {
   "cell_type": "code",
   "execution_count": 141,
   "metadata": {},
   "outputs": [
    {
     "name": "stdout",
     "output_type": "stream",
     "text": [
      "Accuracy of Train Data:  82.41559676652402\n",
      "Accuracy of Test Data:  79.57398250285279\n"
     ]
    }
   ],
   "source": [
    "from lightgbm import LGBMClassifier\n",
    "mod_LGB = LGBMClassifier(n_estimators = 50, learning_rate = 0.301, num_leaves = 36, \n",
    "                        min_child_weight = 10.0, random_state = 0)\n",
    "mod_LGB = mod_LGB.fit(X_train, y_train)\n",
    "y_pred = mod_LGB.predict(X_test)\n",
    "y_train_pred = mod_LGB.predict(X_train)\n",
    "print(\"Accuracy of Train Data: \", accuracy_score(y_train, y_train_pred)*100) \n",
    "print(\"Accuracy of Test Data: \", accuracy_score(y_test, y_pred)*100)"
   ]
  },
  {
   "cell_type": "code",
   "execution_count": 143,
   "metadata": {},
   "outputs": [
    {
     "data": {
      "text/plain": [
       "array([[7937,  287],\n",
       "       [1562,  729]], dtype=int64)"
      ]
     },
     "execution_count": 143,
     "metadata": {},
     "output_type": "execute_result"
    }
   ],
   "source": [
    "# Confusion Matrix of Training Data\n",
    "conf_mat_lgb1 = confusion_matrix(y_train, y_train_pred)\n",
    "conf_mat_lgb1"
   ]
  },
  {
   "cell_type": "code",
   "execution_count": 144,
   "metadata": {},
   "outputs": [
    {
     "data": {
      "text/plain": [
       "array([[1939,  123],\n",
       "       [ 414,  153]], dtype=int64)"
      ]
     },
     "execution_count": 144,
     "metadata": {},
     "output_type": "execute_result"
    }
   ],
   "source": [
    "conf_mat_lgb = confusion_matrix(y_test, y_pred)\n",
    "conf_mat_lgb"
   ]
  },
  {
   "cell_type": "code",
   "execution_count": 145,
   "metadata": {},
   "outputs": [
    {
     "name": "stdout",
     "output_type": "stream",
     "text": [
      "Random Forest: AUC_ROC = 0.8213\n"
     ]
    }
   ],
   "source": [
    "# AUC Value of Adaboost\n",
    "\n",
    "probs = [0 for _ in range(len(y_train))]\n",
    "lgb_probs1 = mod_LGB.predict_proba(X_train)\n",
    "lgb_probs1 = lgb_probs1[:, 1]\n",
    "lgb_auc1 = roc_auc_score(y_train, lgb_probs1)\n",
    "print(\"Random Forest: AUC_ROC = %.4f\" %(lgb_auc1))"
   ]
  },
  {
   "cell_type": "code",
   "execution_count": 146,
   "metadata": {},
   "outputs": [
    {
     "name": "stdout",
     "output_type": "stream",
     "text": [
      "Random Forest: AUC_ROC = 0.7431\n"
     ]
    }
   ],
   "source": [
    "# AUC Value of Adaboost\n",
    "\n",
    "probs = [0 for _ in range(len(y_test))]\n",
    "lgb_probs = mod_LGB.predict_proba(X_test)\n",
    "lgb_probs = lgb_probs[:, 1]\n",
    "lgb_auc = roc_auc_score(y_test, lgb_probs)\n",
    "print(\"Random Forest: AUC_ROC = %.4f\" %(lgb_auc))"
   ]
  },
  {
   "cell_type": "markdown",
   "metadata": {},
   "source": [
    "#### Hyperparameter Tuning of LGB"
   ]
  },
  {
   "cell_type": "code",
   "execution_count": 128,
   "metadata": {},
   "outputs": [
    {
     "name": "stdout",
     "output_type": "stream",
     "text": [
      "Best Accuracy: 78.42 %\n",
      "Best Paramters: {'learning_rate': 0.301, 'max_bin': 12, 'max_depth': 780, 'min_child_samples': 143, 'min_child_weight': 10.0, 'n_estimators': 900, 'num_leaves': 36}\n"
     ]
    }
   ],
   "source": [
    "from scipy.stats import randint as sp_randint\n",
    "from scipy.stats import uniform as sp_uniform\n",
    "parameters  = [{\"num_leaves\": sp_randint(1, 50),\n",
    "                \"max_depth\": [int(x) for x in np.linspace(10, 1000, 10)],\n",
    "              \"learning_rate\": [(0.001 + x / 100) for x in range(0, 40)],\n",
    "              \"n_estimators\": [50,100,150,200,300,400,500,600,700,800,900, 1000, 2000, 3000, 3300],\n",
    "             \"min_child_samples\": sp_randint(100, 500), \n",
    "             \"min_child_weight\": [1e-5, 1e-3, 1e-2, 1e-1, 1, 1e1, 1e2, 1e3, 1e4],\n",
    "             \"max_bin\": range(3,18,3)}]\n",
    "\n",
    "random_search3 = RandomizedSearchCV(mod_LGB, param_distributions = parameters, scoring = \"accuracy\", cv = 10, n_jobs = -1)\n",
    "\n",
    "random_search3.fit(X_train,y_train)\n",
    "best_accuracy = random_search3.best_score_\n",
    "best_paramters = random_search3.best_params_\n",
    "\n",
    "print(\"Best Accuracy: {:.2f} %\".format((best_accuracy)*100))\n",
    "print(\"Best Paramters:\",best_paramters)"
   ]
  },
  {
   "cell_type": "code",
   "execution_count": null,
   "metadata": {},
   "outputs": [],
   "source": []
  },
  {
   "cell_type": "code",
   "execution_count": null,
   "metadata": {},
   "outputs": [],
   "source": []
  },
  {
   "cell_type": "markdown",
   "metadata": {},
   "source": [
    "### Support Vector Machine"
   ]
  },
  {
   "cell_type": "code",
   "execution_count": 147,
   "metadata": {},
   "outputs": [
    {
     "name": "stdout",
     "output_type": "stream",
     "text": [
      "Accuracy of Train Data:  78.8112220637185\n",
      "Accuracy of Test Data:  78.43286420692279\n"
     ]
    }
   ],
   "source": [
    "from sklearn import svm\n",
    "mod_SVC = svm.SVC(kernel = \"rbf\", gamma = 0.31, C = 0.3, random_state = 0, probability = True)\n",
    "mod_SVC = mod_SVC.fit(X_train, y_train)\n",
    "y_pred = mod_SVC.predict(X_test)\n",
    "y_train_pred = mod_SVC.predict(X_train)\n",
    "print(\"Accuracy of Train Data: \", accuracy_score(y_train, y_train_pred)*100) \n",
    "print(\"Accuracy of Test Data: \", accuracy_score(y_test, y_pred)*100) "
   ]
  },
  {
   "cell_type": "code",
   "execution_count": 148,
   "metadata": {},
   "outputs": [
    {
     "data": {
      "text/plain": [
       "array([[8216,    8],\n",
       "       [2220,   71]], dtype=int64)"
      ]
     },
     "execution_count": 148,
     "metadata": {},
     "output_type": "execute_result"
    }
   ],
   "source": [
    "conf_mat_svc1 = confusion_matrix(y_train, y_train_pred)\n",
    "conf_mat_svc1"
   ]
  },
  {
   "cell_type": "code",
   "execution_count": 149,
   "metadata": {},
   "outputs": [
    {
     "data": {
      "text/plain": [
       "array([[2054,    8],\n",
       "       [ 559,    8]], dtype=int64)"
      ]
     },
     "execution_count": 149,
     "metadata": {},
     "output_type": "execute_result"
    }
   ],
   "source": [
    "conf_mat_svc = confusion_matrix(y_test, y_pred)\n",
    "conf_mat_svc"
   ]
  },
  {
   "cell_type": "code",
   "execution_count": 150,
   "metadata": {},
   "outputs": [
    {
     "name": "stdout",
     "output_type": "stream",
     "text": [
      "Random Forest: AUC_ROC = 0.7873\n"
     ]
    }
   ],
   "source": [
    "# AUC Value of SVC of Training Data\n",
    "\n",
    "probs = [0 for _ in range(len(y_train))]\n",
    "svc_probs1 = mod_SVC.predict_proba(X_train)\n",
    "svc_probs1 = svc_probs1[:, 1]\n",
    "svc_auc1 = roc_auc_score(y_train, svc_probs1)\n",
    "print(\"Random Forest: AUC_ROC = %.4f\" %(svc_auc1))"
   ]
  },
  {
   "cell_type": "code",
   "execution_count": 151,
   "metadata": {},
   "outputs": [
    {
     "name": "stdout",
     "output_type": "stream",
     "text": [
      "Random Forest: AUC_ROC = 0.6503\n"
     ]
    }
   ],
   "source": [
    "# AUC Value of SVC\n",
    "\n",
    "probs = [0 for _ in range(len(y_test))]\n",
    "svc_probs = mod_SVC.predict_proba(X_test)\n",
    "svc_probs = svc_probs[:, 1]\n",
    "svc_auc = roc_auc_score(y_test, svc_probs)\n",
    "print(\"Random Forest: AUC_ROC = %.4f\" %(svc_auc))"
   ]
  },
  {
   "cell_type": "markdown",
   "metadata": {},
   "source": [
    "#### Hyperparameter Tuning of SVM"
   ]
  },
  {
   "cell_type": "code",
   "execution_count": 22,
   "metadata": {},
   "outputs": [
    {
     "name": "stdout",
     "output_type": "stream",
     "text": [
      "Best Accuracy: 78.66 %\n",
      "Best Paramters: {'kernel': 'linear', 'gamma': 0.31, 'C': 0.3}\n"
     ]
    }
   ],
   "source": [
    "parameters = [{\"C\" : [0.1, 0.2,0.3,0.4, 0.5,0.6,0.7,0.8,0.9,1],\n",
    "               \"kernel\": [\"linear\", \"rbf\", \"sigmoid\"],\n",
    "               \"gamma\": [(0.01 + x / 100) for x in range(10, 90)]\n",
    "       }]\n",
    "\n",
    "random_search9 = RandomizedSearchCV(mod_SVC, param_distributions = parameters, n_iter = 5, scoring = \"accuracy\", cv = 10, n_jobs = -1)\n",
    "\n",
    "random_search9.fit(X_train,y_train)\n",
    "best_accuracy = random_search9.best_score_\n",
    "best_paramters = random_search9.best_params_\n",
    "\n",
    "print(\"Best Accuracy: {:.2f} %\".format((best_accuracy)*100))\n",
    "print(\"Best Paramters:\",best_paramters)"
   ]
  },
  {
   "cell_type": "code",
   "execution_count": null,
   "metadata": {},
   "outputs": [],
   "source": []
  },
  {
   "cell_type": "markdown",
   "metadata": {},
   "source": [
    "### Logistic Regression"
   ]
  },
  {
   "cell_type": "code",
   "execution_count": 152,
   "metadata": {},
   "outputs": [
    {
     "name": "stdout",
     "output_type": "stream",
     "text": [
      "Accuracy of Train Data:  78.97289586305278\n",
      "Accuracy of Test Data:  79.07949790794979\n"
     ]
    }
   ],
   "source": [
    "from sklearn.linear_model import LogisticRegression\n",
    "mod_LR = LogisticRegression(solver = \"newton-cg\", max_iter = 200, C = 1, random_state = 0)\n",
    "mod_LR = mod_LR.fit(X_train, y_train)\n",
    "y_pred = mod_LR.predict(X_test)\n",
    "y_train_pred = mod_LR.predict(X_train)\n",
    "print(\"Accuracy of Train Data: \", accuracy_score(y_train, y_train_pred)*100) \n",
    "print(\"Accuracy of Test Data: \", accuracy_score(y_test, y_pred)*100)"
   ]
  },
  {
   "cell_type": "code",
   "execution_count": 153,
   "metadata": {},
   "outputs": [
    {
     "data": {
      "text/plain": [
       "array([[7986,  238],\n",
       "       [1973,  318]], dtype=int64)"
      ]
     },
     "execution_count": 153,
     "metadata": {},
     "output_type": "execute_result"
    }
   ],
   "source": [
    "conf_mat_lr1 = confusion_matrix(y_train, y_train_pred)\n",
    "conf_mat_lr1"
   ]
  },
  {
   "cell_type": "code",
   "execution_count": 154,
   "metadata": {},
   "outputs": [
    {
     "data": {
      "text/plain": [
       "array([[1999,   63],\n",
       "       [ 487,   80]], dtype=int64)"
      ]
     },
     "execution_count": 154,
     "metadata": {},
     "output_type": "execute_result"
    }
   ],
   "source": [
    "conf_mat_lr = confusion_matrix(y_test, y_pred)\n",
    "conf_mat_lr"
   ]
  },
  {
   "cell_type": "code",
   "execution_count": 155,
   "metadata": {},
   "outputs": [
    {
     "name": "stdout",
     "output_type": "stream",
     "text": [
      "Random Forest: AUC_ROC = 0.7224\n"
     ]
    }
   ],
   "source": [
    "# AUC Value of LR of Training Data\n",
    "\n",
    "probs = [0 for _ in range(len(y_train))]\n",
    "lr_probs1 = mod_LR.predict_proba(X_train)\n",
    "lr_probs1 = lr_probs1[:, 1]\n",
    "lr_auc1 = roc_auc_score(y_train, lr_probs1)\n",
    "print(\"Random Forest: AUC_ROC = %.4f\" %(lr_auc1))"
   ]
  },
  {
   "cell_type": "code",
   "execution_count": 156,
   "metadata": {},
   "outputs": [
    {
     "name": "stdout",
     "output_type": "stream",
     "text": [
      "Random Forest: AUC_ROC = 0.7299\n"
     ]
    }
   ],
   "source": [
    "# AUC Value of LR\n",
    "\n",
    "probs = [0 for _ in range(len(y_test))]\n",
    "lr_probs = mod_LR.predict_proba(X_test)\n",
    "lr_probs = lr_probs[:, 1]\n",
    "lr_auc = roc_auc_score(y_test, lr_probs)\n",
    "print(\"Random Forest: AUC_ROC = %.4f\" %(lr_auc))"
   ]
  },
  {
   "cell_type": "markdown",
   "metadata": {},
   "source": [
    "#### Hyperparameter Tuning of LR"
   ]
  },
  {
   "cell_type": "code",
   "execution_count": 26,
   "metadata": {},
   "outputs": [
    {
     "name": "stdout",
     "output_type": "stream",
     "text": [
      "Best Accuracy: 78.90 %\n",
      "Best Paramters: {'solver': 'newton-cg', 'max_iter': 200, 'C': 1}\n"
     ]
    }
   ],
   "source": [
    "parameters = [{\n",
    "                \"C\" : [0.1, 0.2,0.3,0.4, 0.5,0.6,0.7,0.8,0.9,1],\n",
    "               \"solver\": [\"lbfgs\", \"newton-cg\", \"liblinear\", \"sag\", \"saga\"],\n",
    "               \"max_iter\" : [50, 100, 200, 1000, 2500, 5000]\n",
    "       }]\n",
    "\n",
    "random_search10 = RandomizedSearchCV(mod_LR, param_distributions = parameters, scoring = \"accuracy\", cv = 10, n_jobs = -1)\n",
    "\n",
    "random_search10.fit(X_train,y_train)\n",
    "best_accuracy = random_search10.best_score_\n",
    "best_paramters = random_search10.best_params_\n",
    "\n",
    "print(\"Best Accuracy: {:.2f} %\".format((best_accuracy)*100))\n",
    "print(\"Best Paramters:\",best_paramters)"
   ]
  },
  {
   "cell_type": "code",
   "execution_count": null,
   "metadata": {},
   "outputs": [],
   "source": []
  },
  {
   "cell_type": "markdown",
   "metadata": {},
   "source": [
    "### Feature Importance Plots"
   ]
  },
  {
   "cell_type": "markdown",
   "metadata": {},
   "source": [
    "##### Random Forest"
   ]
  },
  {
   "cell_type": "code",
   "execution_count": 97,
   "metadata": {},
   "outputs": [
    {
     "data": {
      "image/png": "[encoded data removed]",
      "text/plain": [
       "<Figure size 1000x600 with 1 Axes>"
      ]
     },
     "metadata": {},
     "output_type": "display_data"
    },
    {
     "data": {
      "text/plain": [
       "<Figure size 640x480 with 0 Axes>"
      ]
     },
     "metadata": {},
     "output_type": "display_data"
    }
   ],
   "source": [
    "# Get the feature importances and map to original features\n",
    "importances = mod_RFC.feature_importances_\n",
    "feature_names = X1.columns\n",
    "original_features = []\n",
    "for feature in feature_names:\n",
    "    if '_' in feature:\n",
    "        original_features.append(feature.split('_')[0])\n",
    "    else:\n",
    "        original_features.append(feature)\n",
    "        \n",
    "# Create a dataframe of feature importances and original features\n",
    "feature_importances = pd.DataFrame({'feature': original_features, 'importance': importances})\n",
    "\n",
    "# Aggregate feature importances by original feature\n",
    "grouped_feature_importances = feature_importances.groupby('feature').sum().reset_index()\n",
    "\n",
    "# Sort features by importance\n",
    "sorted_features = grouped_feature_importances.sort_values('importance', ascending=False)['feature']\n",
    "sorted_importances = grouped_feature_importances.sort_values('importance', ascending=False)['importance']\n",
    "\n",
    "# Plot the feature importances\n",
    "fig, ax = plt.subplots(figsize=(10, 6))\n",
    "sns.barplot(x=sorted_importances, y=sorted_features, palette=\"pastel\")\n",
    "ax.set_xlabel('Feature Importance')\n",
    "ax.set_ylabel('Feature Ranking')\n",
    "#ax.set_title('Feature Importance using Random Forest with Mean Decrease Gini')\n",
    "plt.show()\n",
    "\n",
    "plt.savefig(\"Feature\")"
   ]
  },
  {
   "cell_type": "code",
   "execution_count": 94,
   "metadata": {},
   "outputs": [
    {
     "data": {
      "text/html": [
       "<div>\n",
       "<style scoped>\n",
       "    .dataframe tbody tr th:only-of-type {\n",
       "        vertical-align: middle;\n",
       "    }\n",
       "\n",
       "    .dataframe tbody tr th {\n",
       "        vertical-align: top;\n",
       "    }\n",
       "\n",
       "    .dataframe thead th {\n",
       "        text-align: right;\n",
       "    }\n",
       "</style>\n",
       "<table border=\"1\" class=\"dataframe\">\n",
       "  <thead>\n",
       "    <tr style=\"text-align: right;\">\n",
       "      <th></th>\n",
       "      <th>index</th>\n",
       "      <th>Features</th>\n",
       "      <th>Feature_Importance</th>\n",
       "    </tr>\n",
       "  </thead>\n",
       "  <tbody>\n",
       "    <tr>\n",
       "      <th>0</th>\n",
       "      <td>4</td>\n",
       "      <td>Injury_Area</td>\n",
       "      <td>0.389506</td>\n",
       "    </tr>\n",
       "    <tr>\n",
       "      <th>1</th>\n",
       "      <td>7</td>\n",
       "      <td>Vehicle_Maneuver</td>\n",
       "      <td>0.098795</td>\n",
       "    </tr>\n",
       "    <tr>\n",
       "      <th>2</th>\n",
       "      <td>11</td>\n",
       "      <td>Manner_of_Collision</td>\n",
       "      <td>0.092819</td>\n",
       "    </tr>\n",
       "    <tr>\n",
       "      <th>3</th>\n",
       "      <td>3</td>\n",
       "      <td>Age</td>\n",
       "      <td>0.062031</td>\n",
       "    </tr>\n",
       "    <tr>\n",
       "      <th>4</th>\n",
       "      <td>2</td>\n",
       "      <td>Location</td>\n",
       "      <td>0.051193</td>\n",
       "    </tr>\n",
       "    <tr>\n",
       "      <th>5</th>\n",
       "      <td>10</td>\n",
       "      <td>Speed_Involved</td>\n",
       "      <td>0.047414</td>\n",
       "    </tr>\n",
       "    <tr>\n",
       "      <th>6</th>\n",
       "      <td>8</td>\n",
       "      <td>Collision_With_Fixed_Object</td>\n",
       "      <td>0.046869</td>\n",
       "    </tr>\n",
       "    <tr>\n",
       "      <th>7</th>\n",
       "      <td>0</td>\n",
       "      <td>Alcohol_Suspected</td>\n",
       "      <td>0.041591</td>\n",
       "    </tr>\n",
       "    <tr>\n",
       "      <th>8</th>\n",
       "      <td>5</td>\n",
       "      <td>Safety_Equipment</td>\n",
       "      <td>0.036857</td>\n",
       "    </tr>\n",
       "    <tr>\n",
       "      <th>9</th>\n",
       "      <td>1</td>\n",
       "      <td>Drug_Suspected</td>\n",
       "      <td>0.036585</td>\n",
       "    </tr>\n",
       "    <tr>\n",
       "      <th>10</th>\n",
       "      <td>6</td>\n",
       "      <td>Sex</td>\n",
       "      <td>0.035216</td>\n",
       "    </tr>\n",
       "    <tr>\n",
       "      <th>11</th>\n",
       "      <td>9</td>\n",
       "      <td>Left_or_U-Turn_Involved</td>\n",
       "      <td>0.034565</td>\n",
       "    </tr>\n",
       "    <tr>\n",
       "      <th>12</th>\n",
       "      <td>12</td>\n",
       "      <td>Weather_Condition</td>\n",
       "      <td>0.026559</td>\n",
       "    </tr>\n",
       "  </tbody>\n",
       "</table>\n",
       "</div>"
      ],
      "text/plain": [
       "    index                     Features  Feature_Importance\n",
       "0       4                 Injury_Area             0.389506\n",
       "1       7             Vehicle_Maneuver            0.098795\n",
       "2      11          Manner_of_Collision            0.092819\n",
       "3       3                          Age            0.062031\n",
       "4       2                     Location            0.051193\n",
       "5      10               Speed_Involved            0.047414\n",
       "6       8  Collision_With_Fixed_Object            0.046869\n",
       "7       0            Alcohol_Suspected            0.041591\n",
       "8       5             Safety_Equipment            0.036857\n",
       "9       1               Drug_Suspected            0.036585\n",
       "10      6                         Sex             0.035216\n",
       "11      9      Left_or_U-Turn_Involved            0.034565\n",
       "12     12            Weather_Condition            0.026559"
      ]
     },
     "execution_count": 94,
     "metadata": {},
     "output_type": "execute_result"
    }
   ],
   "source": [
    "importance = mod_RFC.feature_importances_\n",
    "#feature_importance = pd.DataFrame(RDF_mod.feature_importances_, index = X_train.columns,\n",
    "                                 #columns = [\"Importance\"]).sort_values(\"Importance\", ascending = False)\n",
    "df_importance = pd.DataFrame({\"Features\":feature_names, \"Feature_Importance\":importance})\n",
    "df_importance = df_importance.sort_values(\"Feature_Importance\", ascending = False).reset_index()\n",
    "df_importance\n",
    "#df_importance[\"Feature_Importance\"].sum()"
   ]
  },
  {
   "cell_type": "markdown",
   "metadata": {},
   "source": [
    "##### Gradient Boosting"
   ]
  },
  {
   "cell_type": "code",
   "execution_count": 96,
   "metadata": {},
   "outputs": [
    {
     "data": {
      "image/png": "[encoded data removed]",
      "text/plain": [
       "<Figure size 1000x600 with 1 Axes>"
      ]
     },
     "metadata": {},
     "output_type": "display_data"
    },
    {
     "data": {
      "text/plain": [
       "<Figure size 640x480 with 0 Axes>"
      ]
     },
     "metadata": {},
     "output_type": "display_data"
    }
   ],
   "source": [
    "# Get the feature importances and map to original features\n",
    "importances = mod_GBC.feature_importances_\n",
    "feature_names = X1.columns\n",
    "original_features = []\n",
    "for feature in feature_names:\n",
    "    if '_' in feature:\n",
    "        original_features.append(feature.split('_')[0])\n",
    "    else:\n",
    "        original_features.append(feature)\n",
    "        \n",
    "# Create a dataframe of feature importances and original features\n",
    "feature_importances = pd.DataFrame({'feature': original_features, 'importance': importances})\n",
    "\n",
    "# Aggregate feature importances by original feature\n",
    "grouped_feature_importances = feature_importances.groupby('feature').sum().reset_index()\n",
    "\n",
    "# Sort features by importance\n",
    "sorted_features = grouped_feature_importances.sort_values('importance', ascending=False)['feature']\n",
    "sorted_importances = grouped_feature_importances.sort_values('importance', ascending=False)['importance']\n",
    "\n",
    "# Plot the feature importances\n",
    "fig, ax = plt.subplots(figsize=(10, 6))\n",
    "sns.barplot(x=sorted_importances, y=sorted_features, palette = \"pastel\")\n",
    "ax.set_xlabel('Feature Importance')\n",
    "ax.set_ylabel('Feature Ranking')\n",
    "#ax.set_title('Feature Importance using Random Forest with Mean Decrease Gini')\n",
    "plt.show()\n",
    "\n",
    "plt.savefig(\"Feature\")"
   ]
  },
  {
   "cell_type": "code",
   "execution_count": 98,
   "metadata": {},
   "outputs": [
    {
     "data": {
      "text/html": [
       "<div>\n",
       "<style scoped>\n",
       "    .dataframe tbody tr th:only-of-type {\n",
       "        vertical-align: middle;\n",
       "    }\n",
       "\n",
       "    .dataframe tbody tr th {\n",
       "        vertical-align: top;\n",
       "    }\n",
       "\n",
       "    .dataframe thead th {\n",
       "        text-align: right;\n",
       "    }\n",
       "</style>\n",
       "<table border=\"1\" class=\"dataframe\">\n",
       "  <thead>\n",
       "    <tr style=\"text-align: right;\">\n",
       "      <th></th>\n",
       "      <th>index</th>\n",
       "      <th>Features</th>\n",
       "      <th>Feature_Importance</th>\n",
       "    </tr>\n",
       "  </thead>\n",
       "  <tbody>\n",
       "    <tr>\n",
       "      <th>0</th>\n",
       "      <td>4</td>\n",
       "      <td>Injury_Area</td>\n",
       "      <td>0.467088</td>\n",
       "    </tr>\n",
       "    <tr>\n",
       "      <th>1</th>\n",
       "      <td>11</td>\n",
       "      <td>Manner_of_Collision</td>\n",
       "      <td>0.077098</td>\n",
       "    </tr>\n",
       "    <tr>\n",
       "      <th>2</th>\n",
       "      <td>1</td>\n",
       "      <td>Drug_Suspected</td>\n",
       "      <td>0.067646</td>\n",
       "    </tr>\n",
       "    <tr>\n",
       "      <th>3</th>\n",
       "      <td>0</td>\n",
       "      <td>Alcohol_Suspected</td>\n",
       "      <td>0.061135</td>\n",
       "    </tr>\n",
       "    <tr>\n",
       "      <th>4</th>\n",
       "      <td>7</td>\n",
       "      <td>Vehicle_Maneuver</td>\n",
       "      <td>0.058716</td>\n",
       "    </tr>\n",
       "    <tr>\n",
       "      <th>5</th>\n",
       "      <td>10</td>\n",
       "      <td>Speed_Involved</td>\n",
       "      <td>0.057261</td>\n",
       "    </tr>\n",
       "    <tr>\n",
       "      <th>6</th>\n",
       "      <td>2</td>\n",
       "      <td>Location</td>\n",
       "      <td>0.056722</td>\n",
       "    </tr>\n",
       "    <tr>\n",
       "      <th>7</th>\n",
       "      <td>8</td>\n",
       "      <td>Collision_With_Fixed_Object</td>\n",
       "      <td>0.051561</td>\n",
       "    </tr>\n",
       "    <tr>\n",
       "      <th>8</th>\n",
       "      <td>9</td>\n",
       "      <td>Left_or_U-Turn_Involved</td>\n",
       "      <td>0.033330</td>\n",
       "    </tr>\n",
       "    <tr>\n",
       "      <th>9</th>\n",
       "      <td>3</td>\n",
       "      <td>Age</td>\n",
       "      <td>0.026286</td>\n",
       "    </tr>\n",
       "    <tr>\n",
       "      <th>10</th>\n",
       "      <td>12</td>\n",
       "      <td>Weather_Condition</td>\n",
       "      <td>0.022133</td>\n",
       "    </tr>\n",
       "    <tr>\n",
       "      <th>11</th>\n",
       "      <td>5</td>\n",
       "      <td>Safety_Equipment</td>\n",
       "      <td>0.010718</td>\n",
       "    </tr>\n",
       "    <tr>\n",
       "      <th>12</th>\n",
       "      <td>6</td>\n",
       "      <td>Sex</td>\n",
       "      <td>0.010306</td>\n",
       "    </tr>\n",
       "  </tbody>\n",
       "</table>\n",
       "</div>"
      ],
      "text/plain": [
       "    index                     Features  Feature_Importance\n",
       "0       4                 Injury_Area             0.467088\n",
       "1      11          Manner_of_Collision            0.077098\n",
       "2       1               Drug_Suspected            0.067646\n",
       "3       0            Alcohol_Suspected            0.061135\n",
       "4       7             Vehicle_Maneuver            0.058716\n",
       "5      10               Speed_Involved            0.057261\n",
       "6       2                     Location            0.056722\n",
       "7       8  Collision_With_Fixed_Object            0.051561\n",
       "8       9      Left_or_U-Turn_Involved            0.033330\n",
       "9       3                          Age            0.026286\n",
       "10     12            Weather_Condition            0.022133\n",
       "11      5             Safety_Equipment            0.010718\n",
       "12      6                         Sex             0.010306"
      ]
     },
     "execution_count": 98,
     "metadata": {},
     "output_type": "execute_result"
    }
   ],
   "source": [
    "importance = mod_GBC.feature_importances_\n",
    "#feature_importance = pd.DataFrame(RDF_mod.feature_importances_, index = X_train.columns,\n",
    "                                 #columns = [\"Importance\"]).sort_values(\"Importance\", ascending = False)\n",
    "df_importance = pd.DataFrame({\"Features\":feature_names, \"Feature_Importance\":importance})\n",
    "df_importance = df_importance.sort_values(\"Feature_Importance\", ascending = False).reset_index()\n",
    "df_importance\n",
    "#df_importance[\"Feature_Importance\"].sum()"
   ]
  },
  {
   "cell_type": "markdown",
   "metadata": {},
   "source": [
    "##### XGBoost"
   ]
  },
  {
   "cell_type": "code",
   "execution_count": 92,
   "metadata": {},
   "outputs": [
    {
     "data": {
      "image/png": "[encoded data removed]",
      "text/plain": [
       "<Figure size 1000x600 with 1 Axes>"
      ]
     },
     "metadata": {},
     "output_type": "display_data"
    },
    {
     "data": {
      "text/plain": [
       "<Figure size 640x480 with 0 Axes>"
      ]
     },
     "metadata": {},
     "output_type": "display_data"
    }
   ],
   "source": [
    "# Get the feature importances and map to original features\n",
    "importances = mod_XGB.feature_importances_\n",
    "feature_names = X1.columns\n",
    "original_features = []\n",
    "for feature in feature_names:\n",
    "    if '_' in feature:\n",
    "        original_features.append(feature.split('_')[0])\n",
    "    else:\n",
    "        original_features.append(feature)\n",
    "        \n",
    "# Create a dataframe of feature importances and original features\n",
    "feature_importances = pd.DataFrame({'feature': original_features, 'importance': importances})\n",
    "\n",
    "# Aggregate feature importances by original feature\n",
    "grouped_feature_importances = feature_importances.groupby('feature').sum().reset_index()\n",
    "\n",
    "# Sort features by importance\n",
    "sorted_features = grouped_feature_importances.sort_values('importance', ascending=False)['feature']\n",
    "sorted_importances = grouped_feature_importances.sort_values('importance', ascending=False)['importance']\n",
    "\n",
    "# Plot the feature importances\n",
    "fig, ax = plt.subplots(figsize=(10, 6))\n",
    "sns.barplot(x=sorted_importances, y=sorted_features, palette = \"pastel\")\n",
    "ax.set_xlabel('Feature Importance')\n",
    "ax.set_ylabel('Feature Ranking')\n",
    "#ax.set_title('Feature Importance using Random Forest with Mean Decrease Gini')\n",
    "plt.show()\n",
    "\n",
    "plt.savefig(\"Feature\")"
   ]
  },
  {
   "cell_type": "code",
   "execution_count": 95,
   "metadata": {},
   "outputs": [
    {
     "data": {
      "text/html": [
       "<div>\n",
       "<style scoped>\n",
       "    .dataframe tbody tr th:only-of-type {\n",
       "        vertical-align: middle;\n",
       "    }\n",
       "\n",
       "    .dataframe tbody tr th {\n",
       "        vertical-align: top;\n",
       "    }\n",
       "\n",
       "    .dataframe thead th {\n",
       "        text-align: right;\n",
       "    }\n",
       "</style>\n",
       "<table border=\"1\" class=\"dataframe\">\n",
       "  <thead>\n",
       "    <tr style=\"text-align: right;\">\n",
       "      <th></th>\n",
       "      <th>index</th>\n",
       "      <th>Features</th>\n",
       "      <th>Feature_Importance</th>\n",
       "    </tr>\n",
       "  </thead>\n",
       "  <tbody>\n",
       "    <tr>\n",
       "      <th>0</th>\n",
       "      <td>4</td>\n",
       "      <td>Injury_Area</td>\n",
       "      <td>0.218886</td>\n",
       "    </tr>\n",
       "    <tr>\n",
       "      <th>1</th>\n",
       "      <td>1</td>\n",
       "      <td>Drug_Suspected</td>\n",
       "      <td>0.147546</td>\n",
       "    </tr>\n",
       "    <tr>\n",
       "      <th>2</th>\n",
       "      <td>2</td>\n",
       "      <td>Location</td>\n",
       "      <td>0.094269</td>\n",
       "    </tr>\n",
       "    <tr>\n",
       "      <th>3</th>\n",
       "      <td>0</td>\n",
       "      <td>Alcohol_Suspected</td>\n",
       "      <td>0.091542</td>\n",
       "    </tr>\n",
       "    <tr>\n",
       "      <th>4</th>\n",
       "      <td>10</td>\n",
       "      <td>Speed_Involved</td>\n",
       "      <td>0.070310</td>\n",
       "    </tr>\n",
       "    <tr>\n",
       "      <th>5</th>\n",
       "      <td>8</td>\n",
       "      <td>Collision_With_Fixed_Object</td>\n",
       "      <td>0.068485</td>\n",
       "    </tr>\n",
       "    <tr>\n",
       "      <th>6</th>\n",
       "      <td>9</td>\n",
       "      <td>Left_or_U-Turn_Involved</td>\n",
       "      <td>0.067051</td>\n",
       "    </tr>\n",
       "    <tr>\n",
       "      <th>7</th>\n",
       "      <td>11</td>\n",
       "      <td>Manner_of_Collision</td>\n",
       "      <td>0.055358</td>\n",
       "    </tr>\n",
       "    <tr>\n",
       "      <th>8</th>\n",
       "      <td>7</td>\n",
       "      <td>Vehicle_Maneuver</td>\n",
       "      <td>0.042478</td>\n",
       "    </tr>\n",
       "    <tr>\n",
       "      <th>9</th>\n",
       "      <td>3</td>\n",
       "      <td>Age</td>\n",
       "      <td>0.042385</td>\n",
       "    </tr>\n",
       "    <tr>\n",
       "      <th>10</th>\n",
       "      <td>6</td>\n",
       "      <td>Sex</td>\n",
       "      <td>0.038961</td>\n",
       "    </tr>\n",
       "    <tr>\n",
       "      <th>11</th>\n",
       "      <td>5</td>\n",
       "      <td>Safety_Equipment</td>\n",
       "      <td>0.034037</td>\n",
       "    </tr>\n",
       "    <tr>\n",
       "      <th>12</th>\n",
       "      <td>12</td>\n",
       "      <td>Weather_Condition</td>\n",
       "      <td>0.028693</td>\n",
       "    </tr>\n",
       "  </tbody>\n",
       "</table>\n",
       "</div>"
      ],
      "text/plain": [
       "    index                     Features  Feature_Importance\n",
       "0       4                 Injury_Area             0.218886\n",
       "1       1               Drug_Suspected            0.147546\n",
       "2       2                     Location            0.094269\n",
       "3       0            Alcohol_Suspected            0.091542\n",
       "4      10               Speed_Involved            0.070310\n",
       "5       8  Collision_With_Fixed_Object            0.068485\n",
       "6       9      Left_or_U-Turn_Involved            0.067051\n",
       "7      11          Manner_of_Collision            0.055358\n",
       "8       7             Vehicle_Maneuver            0.042478\n",
       "9       3                          Age            0.042385\n",
       "10      6                         Sex             0.038961\n",
       "11      5             Safety_Equipment            0.034037\n",
       "12     12            Weather_Condition            0.028693"
      ]
     },
     "execution_count": 95,
     "metadata": {},
     "output_type": "execute_result"
    }
   ],
   "source": [
    "importance = mod_XGB.feature_importances_\n",
    "#feature_importance = pd.DataFrame(RDF_mod.feature_importances_, index = X_train.columns,\n",
    "                                 #columns = [\"Importance\"]).sort_values(\"Importance\", ascending = False)\n",
    "df_importance = pd.DataFrame({\"Features\":feature_names, \"Feature_Importance\":importance})\n",
    "df_importance = df_importance.sort_values(\"Feature_Importance\", ascending = False).reset_index()\n",
    "df_importance\n",
    "#df_importance[\"Feature_Importance\"].sum()"
   ]
  },
  {
   "cell_type": "code",
   "execution_count": null,
   "metadata": {},
   "outputs": [],
   "source": []
  },
  {
   "cell_type": "code",
   "execution_count": null,
   "metadata": {},
   "outputs": [],
   "source": []
  },
  {
   "cell_type": "code",
   "execution_count": null,
   "metadata": {},
   "outputs": [],
   "source": []
  }
 ],
 "metadata": {
  "colab": {
   "authorship_tag": "ABX9TyPQ+pQHkaYBryx5kEtwqxMa",
   "collapsed_sections": [],
   "provenance": []
  },
  "kernelspec": {
   "display_name": "Python 3 (ipykernel)",
   "language": "python",
   "name": "python3"
  },
  "language_info": {
   "codemirror_mode": {
    "name": "ipython",
    "version": 3
   },
   "file_extension": ".py",
   "mimetype": "text/x-python",
   "name": "python",
   "nbconvert_exporter": "python",
   "pygments_lexer": "ipython3",
   "version": "3.11.5"
  }
 },
 "nbformat": 4,
 "nbformat_minor": 1
}
